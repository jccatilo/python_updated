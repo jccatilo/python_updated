{
 "cells": [
  {
   "cell_type": "markdown",
   "id": "599d7ad1",
   "metadata": {},
   "source": [
    "# List comprehension"
   ]
  },
  {
   "cell_type": "code",
   "execution_count": 1,
   "id": "64f6bb5c",
   "metadata": {},
   "outputs": [],
   "source": [
    "nums = [1,2,3,4,5,6,7,8,9,10]"
   ]
  },
  {
   "cell_type": "code",
   "execution_count": 7,
   "id": "23536737",
   "metadata": {},
   "outputs": [
    {
     "name": "stdout",
     "output_type": "stream",
     "text": [
      "[1, 2, 3, 4, 5, 6, 7, 8, 9, 10]\n",
      "[1, 2, 3, 4, 5, 6, 7, 8, 9, 10]\n"
     ]
    }
   ],
   "source": [
    "#I want 'n' for each 'n' in nums[]\n",
    "\n",
    "#standard For loop style\n",
    "my_list = []\n",
    "for n in nums:\n",
    "    my_list.append(n)\n",
    "print(my_list)\n",
    "\n",
    "#List comprehension style\n",
    "my_list_c = [n for n in nums]\n",
    "print(my_list_c)"
   ]
  },
  {
   "cell_type": "code",
   "execution_count": 19,
   "id": "b92cae64",
   "metadata": {},
   "outputs": [
    {
     "name": "stdout",
     "output_type": "stream",
     "text": [
      "[1, 4, 9, 16, 25, 36, 49, 64, 81, 100]\n",
      "[1, 4, 9, 16, 25, 36, 49, 64, 81, 100]\n",
      "[1, 4, 9, 16, 25, 36, 49, 64, 81, 100]\n"
     ]
    }
   ],
   "source": [
    "# I just want the squares for each 'n' in nums[]\n",
    "\n",
    "#standard For loop style\n",
    "my_list=[]\n",
    "for n in nums:\n",
    "    my_list.append(n*n)\n",
    "print(my_list)\n",
    "\n",
    "#list comprehension style\n",
    "my_list_c = [n*n for n in nums]\n",
    "print(my_list_c)\n",
    "\n",
    "#using map +lambda\n",
    "my_list_m = []\n",
    "my_list_m = list(map(lambda n: n*n, nums))\n",
    "print(my_list_m)"
   ]
  },
  {
   "cell_type": "code",
   "execution_count": 20,
   "id": "a1d34657",
   "metadata": {},
   "outputs": [
    {
     "name": "stdout",
     "output_type": "stream",
     "text": [
      "[2, 4, 6, 8, 10]\n",
      "[2, 4, 6, 8, 10]\n"
     ]
    },
    {
     "ename": "NameError",
     "evalue": "name 'listfilter' is not defined",
     "output_type": "error",
     "traceback": [
      "\u001b[1;31m---------------------------------------------------------------------------\u001b[0m",
      "\u001b[1;31mNameError\u001b[0m                                 Traceback (most recent call last)",
      "Input \u001b[1;32mIn [20]\u001b[0m, in \u001b[0;36m<cell line: 15>\u001b[1;34m()\u001b[0m\n\u001b[0;32m     12\u001b[0m \u001b[38;5;28mprint\u001b[39m(my_list_c)\n\u001b[0;32m     14\u001b[0m \u001b[38;5;66;03m#using filter + lambda\u001b[39;00m\n\u001b[1;32m---> 15\u001b[0m my_list_f \u001b[38;5;241m=\u001b[39m (\u001b[43mlistfilter\u001b[49m(\u001b[38;5;28;01mlambda\u001b[39;00m n: n\u001b[38;5;241m%\u001b[39m\u001b[38;5;241m2\u001b[39m \u001b[38;5;241m==\u001b[39m \u001b[38;5;241m0\u001b[39m, nums))\n\u001b[0;32m     16\u001b[0m \u001b[38;5;28mprint\u001b[39m(my_list_f)\n",
      "\u001b[1;31mNameError\u001b[0m: name 'listfilter' is not defined"
     ]
    }
   ],
   "source": [
    "# I want 'n' for each 'n' in numbs if 'n' is even\n",
    "# In english, I want only even numbers.\n",
    "\n",
    "my_list = []\n",
    "for n in nums:\n",
    "    if n%2==0:\n",
    "        my_list.append(n)\n",
    "print(my_list)\n",
    "\n",
    "#using list comprehension\n",
    "my_list_c = [n for n in nums if n%2 == 0]\n",
    "print(my_list_c)\n",
    "\n",
    "#using filter + lambda\n",
    "my_list_f = list(filter(lambda n: n%2 == 0, nums))\n",
    "print(my_list_f)"
   ]
  },
  {
   "cell_type": "code",
   "execution_count": null,
   "id": "a1c59622",
   "metadata": {},
   "outputs": [],
   "source": []
  }
 ],
 "metadata": {
  "kernelspec": {
   "display_name": "Python 3 (ipykernel)",
   "language": "python",
   "name": "python3"
  },
  "language_info": {
   "codemirror_mode": {
    "name": "ipython",
    "version": 3
   },
   "file_extension": ".py",
   "mimetype": "text/x-python",
   "name": "python",
   "nbconvert_exporter": "python",
   "pygments_lexer": "ipython3",
   "version": "3.9.12"
  }
 },
 "nbformat": 4,
 "nbformat_minor": 5
}
