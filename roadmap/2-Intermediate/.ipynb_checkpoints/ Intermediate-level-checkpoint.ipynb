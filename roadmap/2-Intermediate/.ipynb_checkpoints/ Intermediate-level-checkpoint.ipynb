{
 "cells": [
  {
   "cell_type": "markdown",
   "id": "c0a12cf9",
   "metadata": {},
   "source": [
    "# Optional Parameters"
   ]
  },
  {
   "cell_type": "code",
   "execution_count": 2,
   "id": "9f110fed",
   "metadata": {},
   "outputs": [
    {
     "name": "stdout",
     "output_type": "stream",
     "text": [
      "hi\n"
     ]
    }
   ],
   "source": [
    "def my_func(word, freq=1): #freq is the optional parameter\n",
    "    print(word*freq)\n",
    "    \n",
    "call = my_func('hi')"
   ]
  },
  {
   "cell_type": "code",
   "execution_count": 3,
   "id": "e41bbcb1",
   "metadata": {},
   "outputs": [
    {
     "name": "stdout",
     "output_type": "stream",
     "text": [
      "hihihihihihihihihihi\n"
     ]
    }
   ],
   "source": [
    "def my_func(word, freq=1):\n",
    "    print(word*freq)\n",
    "    \n",
    "call = my_func('hi', 10)"
   ]
  },
  {
   "cell_type": "code",
   "execution_count": 4,
   "id": "fcfe9598",
   "metadata": {},
   "outputs": [
    {
     "name": "stdout",
     "output_type": "stream",
     "text": [
      "This car is a Mistubishi Mirage from 2015, it is New and has 0 kms.\n"
     ]
    }
   ],
   "source": [
    "class car(object):\n",
    "    def __init__(self, make, model, year, condition, kms):\n",
    "        self.make = make\n",
    "        self.model = model\n",
    "        self.year = year\n",
    "        self.condition = condition\n",
    "        self.kms = kms\n",
    "        \n",
    "    def display(self, showAll):\n",
    "        if showAll:\n",
    "            print(\"This car is a {} {} from {}, it is {} and has {} kms.\" .format(self.make, self.model, self.year, self.condition, self.kms))\n",
    "        else:\n",
    "            print(\"This car is a {} {} from {}.\" .format(self.make, self.model, self.year))\n",
    "            \n",
    "test1 = car('Mistubishi', 'Mirage', 2015, 'New', 0)\n",
    "test1.display(True)"
   ]
  },
  {
   "cell_type": "code",
   "execution_count": 5,
   "id": "c3dedd61",
   "metadata": {},
   "outputs": [
    {
     "name": "stdout",
     "output_type": "stream",
     "text": [
      "This car is a Mistubishi Mirage from 2015, it is New and has 0 kms.\n"
     ]
    }
   ],
   "source": [
    "class car(object):\n",
    "    def __init__(self, make, model, year, condition='New', kms=0):\n",
    "        self.make = make\n",
    "        self.model = model\n",
    "        self.year = year\n",
    "        self.condition = condition\n",
    "        self.kms = kms\n",
    "        \n",
    "    def display(self, showAll = True):\n",
    "        if showAll:\n",
    "            print(\"This car is a {} {} from {}, it is {} and has {} kms.\" .format(self.make, self.model, self.year, self.condition, self.kms))\n",
    "        else:\n",
    "            print(\"This car is a {} {} from {}.\" .format(self.make, self.model, self.year))\n",
    "            \n",
    "test1 = car('Mistubishi', 'Mirage', 2015)\n",
    "test1.display()"
   ]
  },
  {
   "cell_type": "code",
   "execution_count": 6,
   "id": "b83588e7",
   "metadata": {},
   "outputs": [
    {
     "name": "stdout",
     "output_type": "stream",
     "text": [
      "This car is a Mistubishi Mirage from 2015.\n"
     ]
    }
   ],
   "source": [
    "class car(object):\n",
    "    def __init__(self, make, model, year, condition='New', kms=0):\n",
    "        self.make = make\n",
    "        self.model = model\n",
    "        self.year = year\n",
    "        self.condition = condition\n",
    "        self.kms = kms\n",
    "        \n",
    "    def display(self, showAll = True):\n",
    "        if showAll:\n",
    "            print(\"This car is a {} {} from {}, it is {} and has {} kms.\" .format(self.make, self.model, self.year, self.condition, self.kms))\n",
    "        else:\n",
    "            print(\"This car is a {} {} from {}.\" .format(self.make, self.model, self.year))\n",
    "            \n",
    "test1 = car('Mistubishi', 'Mirage', 2015, 'refurbished', 12)\n",
    "test1.display(False)"
   ]
  },
  {
   "cell_type": "markdown",
   "id": "704ac9ad",
   "metadata": {},
   "source": [
    "# Static and Class Methods"
   ]
  },
  {
   "cell_type": "code",
   "execution_count": 7,
   "id": "ca5b27f1",
   "metadata": {},
   "outputs": [
    {
     "name": "stdout",
     "output_type": "stream",
     "text": [
      "50\n",
      "50\n",
      "John is 26 years old\n",
      "None\n",
      "False\n",
      "False\n"
     ]
    }
   ],
   "source": [
    "class person(object):\n",
    "    population = 50\n",
    "    def __init__(self, name, age):\n",
    "        self.name = name\n",
    "        self.age = age\n",
    "        \n",
    "    @classmethod\n",
    "    def getPopulation(x):\n",
    "        return x.population\n",
    "    \n",
    "    @staticmethod\n",
    "    def isAdult(x):\n",
    "        return x >= 18\n",
    "    \n",
    "    def display(self):\n",
    "        print(\"{} is {} years old\".format(self.name, self.age))\n",
    "\n",
    "newCharacter = person('John', 26)\n",
    "\n",
    "print(person.getPopulation())\n",
    "print(newCharacter.getPopulation())\n",
    "print(newCharacter.display())\n",
    "#print(person.display()) #this will produce error because .display needs an object instantiated.\n",
    "print(newCharacter.isAdult(12))\n",
    "print(person.isAdult(12)) #this will not produce error because .isAdult doesn't need an object instantiated.\n",
    "\n",
    "\n",
    "\n",
    "# @<word> -> these are decorators. not really needed\n",
    "# class method = you can call it in any instance of a class. no need for an object. we won't need the \"self\" parameter but it needs at leasts one parameter passed.\n",
    "# static method = needs \n",
    "\n"
   ]
  },
  {
   "cell_type": "code",
   "execution_count": null,
   "id": "9861d0d2",
   "metadata": {},
   "outputs": [],
   "source": []
  },
  {
   "cell_type": "code",
   "execution_count": null,
   "id": "ba6268f4",
   "metadata": {},
   "outputs": [],
   "source": []
  },
  {
   "cell_type": "code",
   "execution_count": null,
   "id": "885538ba",
   "metadata": {},
   "outputs": [],
   "source": []
  },
  {
   "cell_type": "code",
   "execution_count": null,
   "id": "82ad330a",
   "metadata": {},
   "outputs": [],
   "source": []
  },
  {
   "cell_type": "code",
   "execution_count": null,
   "id": "5e7391c5",
   "metadata": {},
   "outputs": [],
   "source": []
  },
  {
   "cell_type": "code",
   "execution_count": null,
   "id": "1d1ed6c7",
   "metadata": {},
   "outputs": [],
   "source": []
  },
  {
   "cell_type": "markdown",
   "id": "27680465",
   "metadata": {},
   "source": [
    "# List Comprehension"
   ]
  },
  {
   "cell_type": "code",
   "execution_count": 8,
   "id": "23e707f3",
   "metadata": {},
   "outputs": [],
   "source": [
    "nums = [1,2,3,4,5,6,7,8,9,10]"
   ]
  },
  {
   "cell_type": "code",
   "execution_count": 9,
   "id": "bc374b51",
   "metadata": {},
   "outputs": [
    {
     "name": "stdout",
     "output_type": "stream",
     "text": [
      "[1, 2, 3, 4, 5, 6, 7, 8, 9, 10]\n",
      "[1, 2, 3, 4, 5, 6, 7, 8, 9, 10]\n"
     ]
    }
   ],
   "source": [
    "#I want 'n' for each 'n' in nums[]\n",
    "\n",
    "#standard For loop style\n",
    "my_list = []\n",
    "for n in nums:\n",
    "    my_list.append(n)\n",
    "print(my_list)\n",
    "\n",
    "#List comprehension style\n",
    "my_list_c = [n for n in nums]\n",
    "print(my_list_c)"
   ]
  },
  {
   "cell_type": "code",
   "execution_count": 10,
   "id": "88b573d3",
   "metadata": {},
   "outputs": [
    {
     "name": "stdout",
     "output_type": "stream",
     "text": [
      "[1, 4, 9, 16, 25, 36, 49, 64, 81, 100]\n",
      "[1, 4, 9, 16, 25, 36, 49, 64, 81, 100]\n",
      "[1, 4, 9, 16, 25, 36, 49, 64, 81, 100]\n"
     ]
    }
   ],
   "source": [
    "# I just want the squares for each 'n' in nums[]\n",
    "\n",
    "#standard For loop style\n",
    "my_list=[]\n",
    "for n in nums:\n",
    "    my_list.append(n*n)\n",
    "print(my_list)\n",
    "\n",
    "#list comprehension style\n",
    "my_list_c = [n*n for n in nums]\n",
    "print(my_list_c)\n",
    "\n",
    "#using map +lambda\n",
    "my_list_m = []\n",
    "my_list_m = list(map(lambda n: n*n, nums))\n",
    "print(my_list_m)"
   ]
  },
  {
   "cell_type": "code",
   "execution_count": 11,
   "id": "175a2594",
   "metadata": {},
   "outputs": [
    {
     "name": "stdout",
     "output_type": "stream",
     "text": [
      "[2, 4, 6, 8, 10]\n",
      "[2, 4, 6, 8, 10]\n",
      "[2, 4, 6, 8, 10]\n"
     ]
    }
   ],
   "source": [
    "# I want 'n' for each 'n' in numbs if 'n' is even\n",
    "# In english, I want only even numbers.\n",
    "\n",
    "my_list = []\n",
    "for n in nums:\n",
    "    if n%2==0:\n",
    "        my_list.append(n)\n",
    "print(my_list)\n",
    "\n",
    "#using list comprehension\n",
    "my_list_c = [n for n in nums if n%2 == 0]\n",
    "print(my_list_c)\n",
    "\n",
    "#using filter + lambda\n",
    "my_list_f = list(filter(lambda n: n%2 == 0, nums))\n",
    "print(my_list_f)"
   ]
  },
  {
   "cell_type": "code",
   "execution_count": 12,
   "id": "2afdb1fc",
   "metadata": {},
   "outputs": [
    {
     "name": "stdout",
     "output_type": "stream",
     "text": [
      "[('a', 0), ('a', 1), ('a', 2), ('a', 3), ('b', 0), ('b', 1), ('b', 2), ('b', 3), ('c', 0), ('c', 1), ('c', 2), ('c', 3), ('d', 0), ('d', 1), ('d', 2), ('d', 3)]\n",
      "[('a', 0), ('a', 1), ('a', 2), ('a', 3), ('b', 0), ('b', 1), ('b', 2), ('b', 3), ('c', 0), ('c', 1), ('c', 2), ('c', 3), ('d', 0), ('d', 1), ('d', 2), ('d', 3)]\n"
     ]
    }
   ],
   "source": [
    "# i want a (letter, num) pair for each letter in 'abcd' and each number in '0123'\n",
    "\n",
    "#standard\n",
    "my_list = []\n",
    "for letter in 'abcd':\n",
    "    for num in range(4):\n",
    "        my_list.append((letter,num))\n",
    "print(my_list)\n",
    "\n",
    "#list comprehension\n",
    "my_list_c = [(letter, num) for letter in 'abcd' for num in range(4)]\n",
    "print(my_list_c)"
   ]
  },
  {
   "cell_type": "markdown",
   "id": "10329108",
   "metadata": {},
   "source": [
    "# Dictionary Comprehension"
   ]
  },
  {
   "cell_type": "code",
   "execution_count": 13,
   "id": "9cb06e25",
   "metadata": {},
   "outputs": [
    {
     "name": "stdout",
     "output_type": "stream",
     "text": [
      "[('Bruce', 'Batman'), ('Clark', 'Superman'), ('Peter', 'Spiderman'), ('Logan', 'Wolverine'), ('Wade', 'Deadpool')]\n",
      "{'Bruce': 'Batman', 'Clark': 'Superman', 'Peter': 'Spiderman', 'Logan': 'Wolverine', 'Wade': 'Deadpool'}\n",
      "{'Bruce': 'Batman', 'Clark': 'Superman', 'Peter': 'Spiderman', 'Logan': 'Wolverine', 'Wade': 'Deadpool'}\n",
      "{'Bruce': 'Batman', 'Clark': 'Superman', 'Logan': 'Wolverine', 'Wade': 'Deadpool'}\n"
     ]
    }
   ],
   "source": [
    "names = ['Bruce', 'Clark', 'Peter', 'Logan', 'Wade']\n",
    "heroes = ['Batman', 'Superman', 'Spiderman', 'Wolverine', 'Deadpool']\n",
    "print(list(zip(names,heroes)))\n",
    "\n",
    "# I want a dict{'name':'hero'} for each name,hero in zip(names,heroes)\n",
    "my_dict = {}\n",
    "for name, hero in zip(names,heroes):\n",
    "    my_dict[name]=hero\n",
    "print(my_dict)\n",
    "\n",
    "my_dict = {name: hero for name, hero in zip (names, heroes)}\n",
    "print(my_dict)\n",
    "\n",
    "# If i dont like peter....\n",
    "my_dict = {name: hero for name, hero in zip (names, heroes) if name !='Peter'}\n",
    "print(my_dict)"
   ]
  },
  {
   "cell_type": "markdown",
   "id": "a2f5408a",
   "metadata": {},
   "source": [
    "# Set Comprehension"
   ]
  },
  {
   "cell_type": "code",
   "execution_count": 14,
   "id": "9486b3c5",
   "metadata": {},
   "outputs": [
    {
     "name": "stdout",
     "output_type": "stream",
     "text": [
      "{1, 2, 3, 4, 5, 6, 7, 8, 9}\n",
      "{1, 2, 3, 4, 5, 6, 7, 8, 9}\n"
     ]
    }
   ],
   "source": [
    "nums = [1,1,2,1,3,4,3,4,5,5,6,7,8,7,9,9]\n",
    "my_set = set()\n",
    "for n in nums:\n",
    "    my_set.add(n)\n",
    "print(my_set)\n",
    "\n",
    "#set comprehension version\n",
    "my_set = {n for n in nums}\n",
    "print(my_set)\n"
   ]
  },
  {
   "cell_type": "markdown",
   "id": "ca755b1f",
   "metadata": {},
   "source": [
    "# Generator Expressions"
   ]
  },
  {
   "cell_type": "code",
   "execution_count": 15,
   "id": "b9806249",
   "metadata": {},
   "outputs": [
    {
     "name": "stdout",
     "output_type": "stream",
     "text": [
      "1\n",
      "4\n",
      "9\n",
      "16\n",
      "25\n",
      "36\n",
      "49\n",
      "64\n",
      "81\n",
      "100\n"
     ]
    }
   ],
   "source": [
    "# I want to yield n*n for each 'n' in nums\n",
    "nums = [1,2,3,4,5,6,7,8,9,10]\n",
    "\n",
    "def gen_func(nums):\n",
    "    for n in nums:\n",
    "        yield n*n\n",
    "my_gen = gen_func(nums)\n",
    "\n",
    "for i in my_gen:\n",
    "    print(i)"
   ]
  },
  {
   "cell_type": "code",
   "execution_count": 16,
   "id": "2246a8e6",
   "metadata": {},
   "outputs": [
    {
     "name": "stdout",
     "output_type": "stream",
     "text": [
      "1\n",
      "4\n",
      "9\n",
      "16\n",
      "25\n",
      "36\n",
      "49\n",
      "64\n",
      "81\n",
      "100\n"
     ]
    }
   ],
   "source": [
    "#generator version\n",
    "\n",
    "my_gen = (n*n for n in nums)\n",
    "\n",
    "for i in my_gen:\n",
    "    print(i)"
   ]
  },
  {
   "cell_type": "code",
   "execution_count": null,
   "id": "7c0c911b",
   "metadata": {},
   "outputs": [],
   "source": []
  },
  {
   "cell_type": "code",
   "execution_count": null,
   "id": "33697ffd",
   "metadata": {},
   "outputs": [],
   "source": []
  },
  {
   "cell_type": "code",
   "execution_count": null,
   "id": "c55c8377",
   "metadata": {},
   "outputs": [],
   "source": []
  },
  {
   "cell_type": "code",
   "execution_count": null,
   "id": "7a5d7e6a",
   "metadata": {},
   "outputs": [],
   "source": []
  }
 ],
 "metadata": {
  "interpreter": {
   "hash": "95cdb06e919eab5e2c554174537356ac9b55200d1eb6f880dc25de04343a18ea"
  },
  "kernelspec": {
   "display_name": "Python 3 (ipykernel)",
   "language": "python",
   "name": "python3"
  },
  "language_info": {
   "codemirror_mode": {
    "name": "ipython",
    "version": 3
   },
   "file_extension": ".py",
   "mimetype": "text/x-python",
   "name": "python",
   "nbconvert_exporter": "python",
   "pygments_lexer": "ipython3",
   "version": "3.9.12"
  }
 },
 "nbformat": 4,
 "nbformat_minor": 5
}
