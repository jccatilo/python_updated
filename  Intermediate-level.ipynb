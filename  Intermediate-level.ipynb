{
 "cells": [
  {
   "cell_type": "markdown",
   "id": "e70dc70d",
   "metadata": {},
   "source": [
    "# List comprehension"
   ]
  },
  {
   "cell_type": "code",
   "execution_count": 1,
   "id": "4c8bbe7a",
   "metadata": {},
   "outputs": [],
   "source": [
    "nums = [1,2,3,4,5,6,7,8,9,10]"
   ]
  },
  {
   "cell_type": "code",
   "execution_count": 7,
   "id": "f62cdd99",
   "metadata": {},
   "outputs": [
    {
     "name": "stdout",
     "output_type": "stream",
     "text": [
      "[1, 2, 3, 4, 5, 6, 7, 8, 9, 10]\n",
      "[1, 2, 3, 4, 5, 6, 7, 8, 9, 10]\n"
     ]
    }
   ],
   "source": [
    "#I want 'n' for each 'n' in nums[]\n",
    "\n",
    "#standard For loop style\n",
    "my_list = []\n",
    "for n in nums:\n",
    "    my_list.append(n)\n",
    "print(my_list)\n",
    "\n",
    "#List comprehension style\n",
    "my_list_c = [n for n in nums]\n",
    "print(my_list_c)"
   ]
  },
  {
   "cell_type": "code",
   "execution_count": 19,
   "id": "57d44222",
   "metadata": {},
   "outputs": [
    {
     "name": "stdout",
     "output_type": "stream",
     "text": [
      "[1, 4, 9, 16, 25, 36, 49, 64, 81, 100]\n",
      "[1, 4, 9, 16, 25, 36, 49, 64, 81, 100]\n",
      "[1, 4, 9, 16, 25, 36, 49, 64, 81, 100]\n"
     ]
    }
   ],
   "source": [
    "# I just want the squares for each 'n' in nums[]\n",
    "\n",
    "#standard For loop style\n",
    "my_list=[]\n",
    "for n in nums:\n",
    "    my_list.append(n*n)\n",
    "print(my_list)\n",
    "\n",
    "#list comprehension style\n",
    "my_list_c = [n*n for n in nums]\n",
    "print(my_list_c)\n",
    "\n",
    "#using map +lambda\n",
    "my_list_m = []\n",
    "my_list_m = list(map(lambda n: n*n, nums))\n",
    "print(my_list_m)"
   ]
  },
  {
   "cell_type": "code",
   "execution_count": 21,
   "id": "eeedcc9b",
   "metadata": {},
   "outputs": [
    {
     "name": "stdout",
     "output_type": "stream",
     "text": [
      "[2, 4, 6, 8, 10]\n",
      "[2, 4, 6, 8, 10]\n",
      "[2, 4, 6, 8, 10]\n"
     ]
    }
   ],
   "source": [
    "# I want 'n' for each 'n' in numbs if 'n' is even\n",
    "# In english, I want only even numbers.\n",
    "\n",
    "my_list = []\n",
    "for n in nums:\n",
    "    if n%2==0:\n",
    "        my_list.append(n)\n",
    "print(my_list)\n",
    "\n",
    "#using list comprehension\n",
    "my_list_c = [n for n in nums if n%2 == 0]\n",
    "print(my_list_c)\n",
    "\n",
    "#using filter + lambda\n",
    "my_list_f = list(filter(lambda n: n%2 == 0, nums))\n",
    "print(my_list_f)"
   ]
  },
  {
   "cell_type": "code",
   "execution_count": 23,
   "id": "1914f948",
   "metadata": {},
   "outputs": [
    {
     "name": "stdout",
     "output_type": "stream",
     "text": [
      "[('a', 0), ('a', 1), ('a', 2), ('a', 3), ('b', 0), ('b', 1), ('b', 2), ('b', 3), ('c', 0), ('c', 1), ('c', 2), ('c', 3), ('d', 0), ('d', 1), ('d', 2), ('d', 3)]\n"
     ]
    }
   ],
   "source": [
    "# i want a (letter, num) pair for each letter in 'abcd' and each number in '0123'\n",
    "\n",
    "#standard\n",
    "my_list = []\n",
    "for letter in 'abcd':\n",
    "    for num in range(4):\n",
    "        my_list.append((letter,num))\n",
    "print(my_list)\n",
    "\n",
    "#list comprehension\n",
    "my_list_c = [(letter, num)]"
   ]
  },
  {
   "cell_type": "code",
   "execution_count": null,
   "id": "34079df5",
   "metadata": {},
   "outputs": [],
   "source": []
  }
 ],
 "metadata": {
  "kernelspec": {
   "display_name": "Python 3 (ipykernel)",
   "language": "python",
   "name": "python3"
  },
  "language_info": {
   "codemirror_mode": {
    "name": "ipython",
    "version": 3
   },
   "file_extension": ".py",
   "mimetype": "text/x-python",
   "name": "python",
   "nbconvert_exporter": "python",
   "pygments_lexer": "ipython3",
   "version": "3.9.12"
  }
 },
 "nbformat": 4,
 "nbformat_minor": 5
}
