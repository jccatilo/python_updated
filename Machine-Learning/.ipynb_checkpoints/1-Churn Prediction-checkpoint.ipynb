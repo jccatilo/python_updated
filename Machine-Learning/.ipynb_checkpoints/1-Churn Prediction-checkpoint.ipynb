{
 "cells": [
  {
   "cell_type": "markdown",
   "id": "9da9518d",
   "metadata": {},
   "source": [
    "# Customer churn prediction\n",
    "\n",
    "- churn is a measure for how many of your customers are leaving the business or choosing another service/product provider\n",
    "- we will use artificial neuaral network\n",
    "- libraries like keras and tensor flow\n",
    "- metrics like accuracy, f1 score, recall, etc will be used\n",
    "\n",
    "When we google \"churn prediction dataset\", we will land with this data set for sure https://www.kaggle.com/datasets/blastchar/telco-customer-churn.\n",
    "\n",
    "Download the csv file; but in actual, \"archive.zip\" will be the downloaded will which will contain the excel document.\n",
    "I'll place the data set in a \"datasets\" folder for better management and rename it as \"telco-churn-dataset.csv\" for better identification.\n",
    "\n"
   ]
  },
  {
   "cell_type": "code",
   "execution_count": 1,
   "id": "eda09948",
   "metadata": {},
   "outputs": [
    {
     "data": {
      "text/html": [
       "<div>\n",
       "<style scoped>\n",
       "    .dataframe tbody tr th:only-of-type {\n",
       "        vertical-align: middle;\n",
       "    }\n",
       "\n",
       "    .dataframe tbody tr th {\n",
       "        vertical-align: top;\n",
       "    }\n",
       "\n",
       "    .dataframe thead th {\n",
       "        text-align: right;\n",
       "    }\n",
       "</style>\n",
       "<table border=\"1\" class=\"dataframe\">\n",
       "  <thead>\n",
       "    <tr style=\"text-align: right;\">\n",
       "      <th></th>\n",
       "      <th>customerID</th>\n",
       "      <th>gender</th>\n",
       "      <th>SeniorCitizen</th>\n",
       "      <th>Partner</th>\n",
       "      <th>Dependents</th>\n",
       "      <th>tenure</th>\n",
       "      <th>PhoneService</th>\n",
       "      <th>MultipleLines</th>\n",
       "      <th>InternetService</th>\n",
       "      <th>OnlineSecurity</th>\n",
       "      <th>...</th>\n",
       "      <th>DeviceProtection</th>\n",
       "      <th>TechSupport</th>\n",
       "      <th>StreamingTV</th>\n",
       "      <th>StreamingMovies</th>\n",
       "      <th>Contract</th>\n",
       "      <th>PaperlessBilling</th>\n",
       "      <th>PaymentMethod</th>\n",
       "      <th>MonthlyCharges</th>\n",
       "      <th>TotalCharges</th>\n",
       "      <th>Churn</th>\n",
       "    </tr>\n",
       "  </thead>\n",
       "  <tbody>\n",
       "    <tr>\n",
       "      <th>1698</th>\n",
       "      <td>1298-PHBTI</td>\n",
       "      <td>Male</td>\n",
       "      <td>0</td>\n",
       "      <td>Yes</td>\n",
       "      <td>Yes</td>\n",
       "      <td>71</td>\n",
       "      <td>Yes</td>\n",
       "      <td>Yes</td>\n",
       "      <td>Fiber optic</td>\n",
       "      <td>No</td>\n",
       "      <td>...</td>\n",
       "      <td>No</td>\n",
       "      <td>Yes</td>\n",
       "      <td>No</td>\n",
       "      <td>No</td>\n",
       "      <td>Two year</td>\n",
       "      <td>Yes</td>\n",
       "      <td>Electronic check</td>\n",
       "      <td>84.80</td>\n",
       "      <td>6152.4</td>\n",
       "      <td>No</td>\n",
       "    </tr>\n",
       "    <tr>\n",
       "      <th>4861</th>\n",
       "      <td>6941-KXRRV</td>\n",
       "      <td>Female</td>\n",
       "      <td>1</td>\n",
       "      <td>Yes</td>\n",
       "      <td>No</td>\n",
       "      <td>48</td>\n",
       "      <td>Yes</td>\n",
       "      <td>No</td>\n",
       "      <td>DSL</td>\n",
       "      <td>No</td>\n",
       "      <td>...</td>\n",
       "      <td>No</td>\n",
       "      <td>No</td>\n",
       "      <td>No</td>\n",
       "      <td>Yes</td>\n",
       "      <td>One year</td>\n",
       "      <td>Yes</td>\n",
       "      <td>Bank transfer (automatic)</td>\n",
       "      <td>58.95</td>\n",
       "      <td>2789.7</td>\n",
       "      <td>No</td>\n",
       "    </tr>\n",
       "    <tr>\n",
       "      <th>4129</th>\n",
       "      <td>3192-LNKRK</td>\n",
       "      <td>Male</td>\n",
       "      <td>0</td>\n",
       "      <td>Yes</td>\n",
       "      <td>Yes</td>\n",
       "      <td>34</td>\n",
       "      <td>Yes</td>\n",
       "      <td>No</td>\n",
       "      <td>Fiber optic</td>\n",
       "      <td>No</td>\n",
       "      <td>...</td>\n",
       "      <td>Yes</td>\n",
       "      <td>No</td>\n",
       "      <td>Yes</td>\n",
       "      <td>No</td>\n",
       "      <td>Month-to-month</td>\n",
       "      <td>Yes</td>\n",
       "      <td>Mailed check</td>\n",
       "      <td>84.05</td>\n",
       "      <td>2909.95</td>\n",
       "      <td>No</td>\n",
       "    </tr>\n",
       "    <tr>\n",
       "      <th>3285</th>\n",
       "      <td>7197-VOJMM</td>\n",
       "      <td>Male</td>\n",
       "      <td>0</td>\n",
       "      <td>Yes</td>\n",
       "      <td>No</td>\n",
       "      <td>67</td>\n",
       "      <td>Yes</td>\n",
       "      <td>No</td>\n",
       "      <td>DSL</td>\n",
       "      <td>Yes</td>\n",
       "      <td>...</td>\n",
       "      <td>No</td>\n",
       "      <td>Yes</td>\n",
       "      <td>No</td>\n",
       "      <td>Yes</td>\n",
       "      <td>Two year</td>\n",
       "      <td>Yes</td>\n",
       "      <td>Credit card (automatic)</td>\n",
       "      <td>69.20</td>\n",
       "      <td>4671.65</td>\n",
       "      <td>No</td>\n",
       "    </tr>\n",
       "    <tr>\n",
       "      <th>1652</th>\n",
       "      <td>3307-TLCUD</td>\n",
       "      <td>Male</td>\n",
       "      <td>0</td>\n",
       "      <td>Yes</td>\n",
       "      <td>No</td>\n",
       "      <td>17</td>\n",
       "      <td>No</td>\n",
       "      <td>No phone service</td>\n",
       "      <td>DSL</td>\n",
       "      <td>Yes</td>\n",
       "      <td>...</td>\n",
       "      <td>Yes</td>\n",
       "      <td>No</td>\n",
       "      <td>No</td>\n",
       "      <td>No</td>\n",
       "      <td>Month-to-month</td>\n",
       "      <td>No</td>\n",
       "      <td>Mailed check</td>\n",
       "      <td>34.40</td>\n",
       "      <td>592.75</td>\n",
       "      <td>No</td>\n",
       "    </tr>\n",
       "  </tbody>\n",
       "</table>\n",
       "<p>5 rows × 21 columns</p>\n",
       "</div>"
      ],
      "text/plain": [
       "      customerID  gender  SeniorCitizen Partner Dependents  tenure  \\\n",
       "1698  1298-PHBTI    Male              0     Yes        Yes      71   \n",
       "4861  6941-KXRRV  Female              1     Yes         No      48   \n",
       "4129  3192-LNKRK    Male              0     Yes        Yes      34   \n",
       "3285  7197-VOJMM    Male              0     Yes         No      67   \n",
       "1652  3307-TLCUD    Male              0     Yes         No      17   \n",
       "\n",
       "     PhoneService     MultipleLines InternetService OnlineSecurity  ...  \\\n",
       "1698          Yes               Yes     Fiber optic             No  ...   \n",
       "4861          Yes                No             DSL             No  ...   \n",
       "4129          Yes                No     Fiber optic             No  ...   \n",
       "3285          Yes                No             DSL            Yes  ...   \n",
       "1652           No  No phone service             DSL            Yes  ...   \n",
       "\n",
       "     DeviceProtection TechSupport StreamingTV StreamingMovies        Contract  \\\n",
       "1698               No         Yes          No              No        Two year   \n",
       "4861               No          No          No             Yes        One year   \n",
       "4129              Yes          No         Yes              No  Month-to-month   \n",
       "3285               No         Yes          No             Yes        Two year   \n",
       "1652              Yes          No          No              No  Month-to-month   \n",
       "\n",
       "     PaperlessBilling              PaymentMethod MonthlyCharges  TotalCharges  \\\n",
       "1698              Yes           Electronic check          84.80        6152.4   \n",
       "4861              Yes  Bank transfer (automatic)          58.95        2789.7   \n",
       "4129              Yes               Mailed check          84.05       2909.95   \n",
       "3285              Yes    Credit card (automatic)          69.20       4671.65   \n",
       "1652               No               Mailed check          34.40        592.75   \n",
       "\n",
       "     Churn  \n",
       "1698    No  \n",
       "4861    No  \n",
       "4129    No  \n",
       "3285    No  \n",
       "1652    No  \n",
       "\n",
       "[5 rows x 21 columns]"
      ]
     },
     "execution_count": 1,
     "metadata": {},
     "output_type": "execute_result"
    }
   ],
   "source": [
    "# Let's code.\n",
    "\n",
    "import pandas as pd # for accessing data and data manipulation\n",
    "from matplotlib import pyplot as plt # for data presentation\n",
    "import numpy as np # for computations\n",
    "\n",
    "df = pd.read_csv(\"datasets/telco-churn-dataset.csv\") # read csv file and store it in a dataframe\n",
    "df.sample(5) #display the 5 random samples"
   ]
  },
  {
   "cell_type": "markdown",
   "id": "c9a7bddf",
   "metadata": {},
   "source": [
    "# Data cleaning\n",
    "\n",
    "In machine learning, the customer identification (customerID in our case) doesn't really help in building our model."
   ]
  },
  {
   "cell_type": "code",
   "execution_count": 2,
   "id": "767a180c",
   "metadata": {},
   "outputs": [
    {
     "data": {
      "text/html": [
       "<div>\n",
       "<style scoped>\n",
       "    .dataframe tbody tr th:only-of-type {\n",
       "        vertical-align: middle;\n",
       "    }\n",
       "\n",
       "    .dataframe tbody tr th {\n",
       "        vertical-align: top;\n",
       "    }\n",
       "\n",
       "    .dataframe thead th {\n",
       "        text-align: right;\n",
       "    }\n",
       "</style>\n",
       "<table border=\"1\" class=\"dataframe\">\n",
       "  <thead>\n",
       "    <tr style=\"text-align: right;\">\n",
       "      <th></th>\n",
       "      <th>gender</th>\n",
       "      <th>SeniorCitizen</th>\n",
       "      <th>Partner</th>\n",
       "      <th>Dependents</th>\n",
       "      <th>tenure</th>\n",
       "      <th>PhoneService</th>\n",
       "      <th>MultipleLines</th>\n",
       "      <th>InternetService</th>\n",
       "      <th>OnlineSecurity</th>\n",
       "      <th>OnlineBackup</th>\n",
       "      <th>DeviceProtection</th>\n",
       "      <th>TechSupport</th>\n",
       "      <th>StreamingTV</th>\n",
       "      <th>StreamingMovies</th>\n",
       "      <th>Contract</th>\n",
       "      <th>PaperlessBilling</th>\n",
       "      <th>PaymentMethod</th>\n",
       "      <th>MonthlyCharges</th>\n",
       "      <th>TotalCharges</th>\n",
       "      <th>Churn</th>\n",
       "    </tr>\n",
       "  </thead>\n",
       "  <tbody>\n",
       "    <tr>\n",
       "      <th>13</th>\n",
       "      <td>Male</td>\n",
       "      <td>0</td>\n",
       "      <td>No</td>\n",
       "      <td>No</td>\n",
       "      <td>49</td>\n",
       "      <td>Yes</td>\n",
       "      <td>Yes</td>\n",
       "      <td>Fiber optic</td>\n",
       "      <td>No</td>\n",
       "      <td>Yes</td>\n",
       "      <td>Yes</td>\n",
       "      <td>No</td>\n",
       "      <td>Yes</td>\n",
       "      <td>Yes</td>\n",
       "      <td>Month-to-month</td>\n",
       "      <td>Yes</td>\n",
       "      <td>Bank transfer (automatic)</td>\n",
       "      <td>103.70</td>\n",
       "      <td>5036.3</td>\n",
       "      <td>Yes</td>\n",
       "    </tr>\n",
       "    <tr>\n",
       "      <th>5460</th>\n",
       "      <td>Male</td>\n",
       "      <td>0</td>\n",
       "      <td>Yes</td>\n",
       "      <td>No</td>\n",
       "      <td>34</td>\n",
       "      <td>Yes</td>\n",
       "      <td>No</td>\n",
       "      <td>No</td>\n",
       "      <td>No internet service</td>\n",
       "      <td>No internet service</td>\n",
       "      <td>No internet service</td>\n",
       "      <td>No internet service</td>\n",
       "      <td>No internet service</td>\n",
       "      <td>No internet service</td>\n",
       "      <td>Two year</td>\n",
       "      <td>No</td>\n",
       "      <td>Credit card (automatic)</td>\n",
       "      <td>20.05</td>\n",
       "      <td>679</td>\n",
       "      <td>No</td>\n",
       "    </tr>\n",
       "    <tr>\n",
       "      <th>5388</th>\n",
       "      <td>Male</td>\n",
       "      <td>0</td>\n",
       "      <td>Yes</td>\n",
       "      <td>Yes</td>\n",
       "      <td>1</td>\n",
       "      <td>Yes</td>\n",
       "      <td>No</td>\n",
       "      <td>No</td>\n",
       "      <td>No internet service</td>\n",
       "      <td>No internet service</td>\n",
       "      <td>No internet service</td>\n",
       "      <td>No internet service</td>\n",
       "      <td>No internet service</td>\n",
       "      <td>No internet service</td>\n",
       "      <td>Month-to-month</td>\n",
       "      <td>No</td>\n",
       "      <td>Mailed check</td>\n",
       "      <td>19.90</td>\n",
       "      <td>19.9</td>\n",
       "      <td>Yes</td>\n",
       "    </tr>\n",
       "    <tr>\n",
       "      <th>3811</th>\n",
       "      <td>Male</td>\n",
       "      <td>0</td>\n",
       "      <td>No</td>\n",
       "      <td>No</td>\n",
       "      <td>2</td>\n",
       "      <td>Yes</td>\n",
       "      <td>No</td>\n",
       "      <td>DSL</td>\n",
       "      <td>Yes</td>\n",
       "      <td>No</td>\n",
       "      <td>No</td>\n",
       "      <td>Yes</td>\n",
       "      <td>No</td>\n",
       "      <td>No</td>\n",
       "      <td>Month-to-month</td>\n",
       "      <td>Yes</td>\n",
       "      <td>Mailed check</td>\n",
       "      <td>54.45</td>\n",
       "      <td>87.3</td>\n",
       "      <td>No</td>\n",
       "    </tr>\n",
       "    <tr>\n",
       "      <th>521</th>\n",
       "      <td>Male</td>\n",
       "      <td>1</td>\n",
       "      <td>Yes</td>\n",
       "      <td>No</td>\n",
       "      <td>29</td>\n",
       "      <td>Yes</td>\n",
       "      <td>Yes</td>\n",
       "      <td>DSL</td>\n",
       "      <td>No</td>\n",
       "      <td>No</td>\n",
       "      <td>No</td>\n",
       "      <td>No</td>\n",
       "      <td>No</td>\n",
       "      <td>No</td>\n",
       "      <td>Month-to-month</td>\n",
       "      <td>Yes</td>\n",
       "      <td>Electronic check</td>\n",
       "      <td>51.60</td>\n",
       "      <td>1442</td>\n",
       "      <td>No</td>\n",
       "    </tr>\n",
       "  </tbody>\n",
       "</table>\n",
       "</div>"
      ],
      "text/plain": [
       "     gender  SeniorCitizen Partner Dependents  tenure PhoneService  \\\n",
       "13     Male              0      No         No      49          Yes   \n",
       "5460   Male              0     Yes         No      34          Yes   \n",
       "5388   Male              0     Yes        Yes       1          Yes   \n",
       "3811   Male              0      No         No       2          Yes   \n",
       "521    Male              1     Yes         No      29          Yes   \n",
       "\n",
       "     MultipleLines InternetService       OnlineSecurity         OnlineBackup  \\\n",
       "13             Yes     Fiber optic                   No                  Yes   \n",
       "5460            No              No  No internet service  No internet service   \n",
       "5388            No              No  No internet service  No internet service   \n",
       "3811            No             DSL                  Yes                   No   \n",
       "521            Yes             DSL                   No                   No   \n",
       "\n",
       "         DeviceProtection          TechSupport          StreamingTV  \\\n",
       "13                    Yes                   No                  Yes   \n",
       "5460  No internet service  No internet service  No internet service   \n",
       "5388  No internet service  No internet service  No internet service   \n",
       "3811                   No                  Yes                   No   \n",
       "521                    No                   No                   No   \n",
       "\n",
       "          StreamingMovies        Contract PaperlessBilling  \\\n",
       "13                    Yes  Month-to-month              Yes   \n",
       "5460  No internet service        Two year               No   \n",
       "5388  No internet service  Month-to-month               No   \n",
       "3811                   No  Month-to-month              Yes   \n",
       "521                    No  Month-to-month              Yes   \n",
       "\n",
       "                  PaymentMethod  MonthlyCharges TotalCharges Churn  \n",
       "13    Bank transfer (automatic)          103.70       5036.3   Yes  \n",
       "5460    Credit card (automatic)           20.05          679    No  \n",
       "5388               Mailed check           19.90         19.9   Yes  \n",
       "3811               Mailed check           54.45         87.3    No  \n",
       "521            Electronic check           51.60         1442    No  "
      ]
     },
     "execution_count": 2,
     "metadata": {},
     "output_type": "execute_result"
    }
   ],
   "source": [
    "df.drop('customerID', axis = 'columns', inplace = True) # dropping unnecessary columns\n",
    "df.sample(5)"
   ]
  },
  {
   "cell_type": "markdown",
   "id": "1ae7b8ea",
   "metadata": {},
   "source": [
    "It is also a good practice to identify and convert if needed the data types for the columns/features in our dataframe.\n",
    "We can do this by \\<df_name\\>.dtypes. \n",
    " - most likely, we will convert our chosen parameters into some form of a number since our libraries can only understand numerical values."
   ]
  },
  {
   "cell_type": "code",
   "execution_count": 3,
   "id": "1a3dbfd6",
   "metadata": {},
   "outputs": [
    {
     "data": {
      "text/plain": [
       "gender               object\n",
       "SeniorCitizen         int64\n",
       "Partner              object\n",
       "Dependents           object\n",
       "tenure                int64\n",
       "PhoneService         object\n",
       "MultipleLines        object\n",
       "InternetService      object\n",
       "OnlineSecurity       object\n",
       "OnlineBackup         object\n",
       "DeviceProtection     object\n",
       "TechSupport          object\n",
       "StreamingTV          object\n",
       "StreamingMovies      object\n",
       "Contract             object\n",
       "PaperlessBilling     object\n",
       "PaymentMethod        object\n",
       "MonthlyCharges      float64\n",
       "TotalCharges         object\n",
       "Churn                object\n",
       "dtype: object"
      ]
     },
     "execution_count": 3,
     "metadata": {},
     "output_type": "execute_result"
    }
   ],
   "source": [
    "df.dtypes \n",
    "# we will see that there will be objects datatype in some columns. we need to convert them into some sort of numerical value."
   ]
  },
  {
   "cell_type": "code",
   "execution_count": 4,
   "id": "5e1ca240",
   "metadata": {},
   "outputs": [
    {
     "ename": "ValueError",
     "evalue": "could not convert string to float: ''",
     "output_type": "error",
     "traceback": [
      "\u001b[1;31m---------------------------------------------------------------------------\u001b[0m",
      "\u001b[1;31mValueError\u001b[0m                                Traceback (most recent call last)",
      "Input \u001b[1;32mIn [4]\u001b[0m, in \u001b[0;36m<cell line: 1>\u001b[1;34m()\u001b[0m\n\u001b[1;32m----> 1\u001b[0m df[\u001b[38;5;124m'\u001b[39m\u001b[38;5;124mTotalCharges\u001b[39m\u001b[38;5;124m'\u001b[39m] \u001b[38;5;241m=\u001b[39m \u001b[43mdf\u001b[49m\u001b[43m[\u001b[49m\u001b[38;5;124;43m'\u001b[39;49m\u001b[38;5;124;43mTotalCharges\u001b[39;49m\u001b[38;5;124;43m'\u001b[39;49m\u001b[43m]\u001b[49m\u001b[38;5;241;43m.\u001b[39;49m\u001b[43mastype\u001b[49m\u001b[43m(\u001b[49m\u001b[38;5;28;43mfloat\u001b[39;49m\u001b[43m)\u001b[49m\n",
      "File \u001b[1;32mC:\\ProgramData\\Anaconda3\\lib\\site-packages\\pandas\\core\\generic.py:5912\u001b[0m, in \u001b[0;36mNDFrame.astype\u001b[1;34m(self, dtype, copy, errors)\u001b[0m\n\u001b[0;32m   5905\u001b[0m     results \u001b[38;5;241m=\u001b[39m [\n\u001b[0;32m   5906\u001b[0m         \u001b[38;5;28mself\u001b[39m\u001b[38;5;241m.\u001b[39miloc[:, i]\u001b[38;5;241m.\u001b[39mastype(dtype, copy\u001b[38;5;241m=\u001b[39mcopy)\n\u001b[0;32m   5907\u001b[0m         \u001b[38;5;28;01mfor\u001b[39;00m i \u001b[38;5;129;01min\u001b[39;00m \u001b[38;5;28mrange\u001b[39m(\u001b[38;5;28mlen\u001b[39m(\u001b[38;5;28mself\u001b[39m\u001b[38;5;241m.\u001b[39mcolumns))\n\u001b[0;32m   5908\u001b[0m     ]\n\u001b[0;32m   5910\u001b[0m \u001b[38;5;28;01melse\u001b[39;00m:\n\u001b[0;32m   5911\u001b[0m     \u001b[38;5;66;03m# else, only a single dtype is given\u001b[39;00m\n\u001b[1;32m-> 5912\u001b[0m     new_data \u001b[38;5;241m=\u001b[39m \u001b[38;5;28;43mself\u001b[39;49m\u001b[38;5;241;43m.\u001b[39;49m\u001b[43m_mgr\u001b[49m\u001b[38;5;241;43m.\u001b[39;49m\u001b[43mastype\u001b[49m\u001b[43m(\u001b[49m\u001b[43mdtype\u001b[49m\u001b[38;5;241;43m=\u001b[39;49m\u001b[43mdtype\u001b[49m\u001b[43m,\u001b[49m\u001b[43m \u001b[49m\u001b[43mcopy\u001b[49m\u001b[38;5;241;43m=\u001b[39;49m\u001b[43mcopy\u001b[49m\u001b[43m,\u001b[49m\u001b[43m \u001b[49m\u001b[43merrors\u001b[49m\u001b[38;5;241;43m=\u001b[39;49m\u001b[43merrors\u001b[49m\u001b[43m)\u001b[49m\n\u001b[0;32m   5913\u001b[0m     \u001b[38;5;28;01mreturn\u001b[39;00m \u001b[38;5;28mself\u001b[39m\u001b[38;5;241m.\u001b[39m_constructor(new_data)\u001b[38;5;241m.\u001b[39m__finalize__(\u001b[38;5;28mself\u001b[39m, method\u001b[38;5;241m=\u001b[39m\u001b[38;5;124m\"\u001b[39m\u001b[38;5;124mastype\u001b[39m\u001b[38;5;124m\"\u001b[39m)\n\u001b[0;32m   5915\u001b[0m \u001b[38;5;66;03m# GH 33113: handle empty frame or series\u001b[39;00m\n",
      "File \u001b[1;32mC:\\ProgramData\\Anaconda3\\lib\\site-packages\\pandas\\core\\internals\\managers.py:419\u001b[0m, in \u001b[0;36mBaseBlockManager.astype\u001b[1;34m(self, dtype, copy, errors)\u001b[0m\n\u001b[0;32m    418\u001b[0m \u001b[38;5;28;01mdef\u001b[39;00m \u001b[38;5;21mastype\u001b[39m(\u001b[38;5;28mself\u001b[39m: T, dtype, copy: \u001b[38;5;28mbool\u001b[39m \u001b[38;5;241m=\u001b[39m \u001b[38;5;28;01mFalse\u001b[39;00m, errors: \u001b[38;5;28mstr\u001b[39m \u001b[38;5;241m=\u001b[39m \u001b[38;5;124m\"\u001b[39m\u001b[38;5;124mraise\u001b[39m\u001b[38;5;124m\"\u001b[39m) \u001b[38;5;241m-\u001b[39m\u001b[38;5;241m>\u001b[39m T:\n\u001b[1;32m--> 419\u001b[0m     \u001b[38;5;28;01mreturn\u001b[39;00m \u001b[38;5;28;43mself\u001b[39;49m\u001b[38;5;241;43m.\u001b[39;49m\u001b[43mapply\u001b[49m\u001b[43m(\u001b[49m\u001b[38;5;124;43m\"\u001b[39;49m\u001b[38;5;124;43mastype\u001b[39;49m\u001b[38;5;124;43m\"\u001b[39;49m\u001b[43m,\u001b[49m\u001b[43m \u001b[49m\u001b[43mdtype\u001b[49m\u001b[38;5;241;43m=\u001b[39;49m\u001b[43mdtype\u001b[49m\u001b[43m,\u001b[49m\u001b[43m \u001b[49m\u001b[43mcopy\u001b[49m\u001b[38;5;241;43m=\u001b[39;49m\u001b[43mcopy\u001b[49m\u001b[43m,\u001b[49m\u001b[43m \u001b[49m\u001b[43merrors\u001b[49m\u001b[38;5;241;43m=\u001b[39;49m\u001b[43merrors\u001b[49m\u001b[43m)\u001b[49m\n",
      "File \u001b[1;32mC:\\ProgramData\\Anaconda3\\lib\\site-packages\\pandas\\core\\internals\\managers.py:304\u001b[0m, in \u001b[0;36mBaseBlockManager.apply\u001b[1;34m(self, f, align_keys, ignore_failures, **kwargs)\u001b[0m\n\u001b[0;32m    302\u001b[0m         applied \u001b[38;5;241m=\u001b[39m b\u001b[38;5;241m.\u001b[39mapply(f, \u001b[38;5;241m*\u001b[39m\u001b[38;5;241m*\u001b[39mkwargs)\n\u001b[0;32m    303\u001b[0m     \u001b[38;5;28;01melse\u001b[39;00m:\n\u001b[1;32m--> 304\u001b[0m         applied \u001b[38;5;241m=\u001b[39m \u001b[38;5;28mgetattr\u001b[39m(b, f)(\u001b[38;5;241m*\u001b[39m\u001b[38;5;241m*\u001b[39mkwargs)\n\u001b[0;32m    305\u001b[0m \u001b[38;5;28;01mexcept\u001b[39;00m (\u001b[38;5;167;01mTypeError\u001b[39;00m, \u001b[38;5;167;01mNotImplementedError\u001b[39;00m):\n\u001b[0;32m    306\u001b[0m     \u001b[38;5;28;01mif\u001b[39;00m \u001b[38;5;129;01mnot\u001b[39;00m ignore_failures:\n",
      "File \u001b[1;32mC:\\ProgramData\\Anaconda3\\lib\\site-packages\\pandas\\core\\internals\\blocks.py:580\u001b[0m, in \u001b[0;36mBlock.astype\u001b[1;34m(self, dtype, copy, errors)\u001b[0m\n\u001b[0;32m    562\u001b[0m \u001b[38;5;124;03m\"\"\"\u001b[39;00m\n\u001b[0;32m    563\u001b[0m \u001b[38;5;124;03mCoerce to the new dtype.\u001b[39;00m\n\u001b[0;32m    564\u001b[0m \n\u001b[1;32m   (...)\u001b[0m\n\u001b[0;32m    576\u001b[0m \u001b[38;5;124;03mBlock\u001b[39;00m\n\u001b[0;32m    577\u001b[0m \u001b[38;5;124;03m\"\"\"\u001b[39;00m\n\u001b[0;32m    578\u001b[0m values \u001b[38;5;241m=\u001b[39m \u001b[38;5;28mself\u001b[39m\u001b[38;5;241m.\u001b[39mvalues\n\u001b[1;32m--> 580\u001b[0m new_values \u001b[38;5;241m=\u001b[39m \u001b[43mastype_array_safe\u001b[49m\u001b[43m(\u001b[49m\u001b[43mvalues\u001b[49m\u001b[43m,\u001b[49m\u001b[43m \u001b[49m\u001b[43mdtype\u001b[49m\u001b[43m,\u001b[49m\u001b[43m \u001b[49m\u001b[43mcopy\u001b[49m\u001b[38;5;241;43m=\u001b[39;49m\u001b[43mcopy\u001b[49m\u001b[43m,\u001b[49m\u001b[43m \u001b[49m\u001b[43merrors\u001b[49m\u001b[38;5;241;43m=\u001b[39;49m\u001b[43merrors\u001b[49m\u001b[43m)\u001b[49m\n\u001b[0;32m    582\u001b[0m new_values \u001b[38;5;241m=\u001b[39m maybe_coerce_values(new_values)\n\u001b[0;32m    583\u001b[0m newb \u001b[38;5;241m=\u001b[39m \u001b[38;5;28mself\u001b[39m\u001b[38;5;241m.\u001b[39mmake_block(new_values)\n",
      "File \u001b[1;32mC:\\ProgramData\\Anaconda3\\lib\\site-packages\\pandas\\core\\dtypes\\cast.py:1292\u001b[0m, in \u001b[0;36mastype_array_safe\u001b[1;34m(values, dtype, copy, errors)\u001b[0m\n\u001b[0;32m   1289\u001b[0m     dtype \u001b[38;5;241m=\u001b[39m dtype\u001b[38;5;241m.\u001b[39mnumpy_dtype\n\u001b[0;32m   1291\u001b[0m \u001b[38;5;28;01mtry\u001b[39;00m:\n\u001b[1;32m-> 1292\u001b[0m     new_values \u001b[38;5;241m=\u001b[39m \u001b[43mastype_array\u001b[49m\u001b[43m(\u001b[49m\u001b[43mvalues\u001b[49m\u001b[43m,\u001b[49m\u001b[43m \u001b[49m\u001b[43mdtype\u001b[49m\u001b[43m,\u001b[49m\u001b[43m \u001b[49m\u001b[43mcopy\u001b[49m\u001b[38;5;241;43m=\u001b[39;49m\u001b[43mcopy\u001b[49m\u001b[43m)\u001b[49m\n\u001b[0;32m   1293\u001b[0m \u001b[38;5;28;01mexcept\u001b[39;00m (\u001b[38;5;167;01mValueError\u001b[39;00m, \u001b[38;5;167;01mTypeError\u001b[39;00m):\n\u001b[0;32m   1294\u001b[0m     \u001b[38;5;66;03m# e.g. astype_nansafe can fail on object-dtype of strings\u001b[39;00m\n\u001b[0;32m   1295\u001b[0m     \u001b[38;5;66;03m#  trying to convert to float\u001b[39;00m\n\u001b[0;32m   1296\u001b[0m     \u001b[38;5;28;01mif\u001b[39;00m errors \u001b[38;5;241m==\u001b[39m \u001b[38;5;124m\"\u001b[39m\u001b[38;5;124mignore\u001b[39m\u001b[38;5;124m\"\u001b[39m:\n",
      "File \u001b[1;32mC:\\ProgramData\\Anaconda3\\lib\\site-packages\\pandas\\core\\dtypes\\cast.py:1237\u001b[0m, in \u001b[0;36mastype_array\u001b[1;34m(values, dtype, copy)\u001b[0m\n\u001b[0;32m   1234\u001b[0m     values \u001b[38;5;241m=\u001b[39m values\u001b[38;5;241m.\u001b[39mastype(dtype, copy\u001b[38;5;241m=\u001b[39mcopy)\n\u001b[0;32m   1236\u001b[0m \u001b[38;5;28;01melse\u001b[39;00m:\n\u001b[1;32m-> 1237\u001b[0m     values \u001b[38;5;241m=\u001b[39m \u001b[43mastype_nansafe\u001b[49m\u001b[43m(\u001b[49m\u001b[43mvalues\u001b[49m\u001b[43m,\u001b[49m\u001b[43m \u001b[49m\u001b[43mdtype\u001b[49m\u001b[43m,\u001b[49m\u001b[43m \u001b[49m\u001b[43mcopy\u001b[49m\u001b[38;5;241;43m=\u001b[39;49m\u001b[43mcopy\u001b[49m\u001b[43m)\u001b[49m\n\u001b[0;32m   1239\u001b[0m \u001b[38;5;66;03m# in pandas we don't store numpy str dtypes, so convert to object\u001b[39;00m\n\u001b[0;32m   1240\u001b[0m \u001b[38;5;28;01mif\u001b[39;00m \u001b[38;5;28misinstance\u001b[39m(dtype, np\u001b[38;5;241m.\u001b[39mdtype) \u001b[38;5;129;01mand\u001b[39;00m \u001b[38;5;28missubclass\u001b[39m(values\u001b[38;5;241m.\u001b[39mdtype\u001b[38;5;241m.\u001b[39mtype, \u001b[38;5;28mstr\u001b[39m):\n",
      "File \u001b[1;32mC:\\ProgramData\\Anaconda3\\lib\\site-packages\\pandas\\core\\dtypes\\cast.py:1181\u001b[0m, in \u001b[0;36mastype_nansafe\u001b[1;34m(arr, dtype, copy, skipna)\u001b[0m\n\u001b[0;32m   1177\u001b[0m     \u001b[38;5;28;01mraise\u001b[39;00m \u001b[38;5;167;01mValueError\u001b[39;00m(msg)\n\u001b[0;32m   1179\u001b[0m \u001b[38;5;28;01mif\u001b[39;00m copy \u001b[38;5;129;01mor\u001b[39;00m is_object_dtype(arr\u001b[38;5;241m.\u001b[39mdtype) \u001b[38;5;129;01mor\u001b[39;00m is_object_dtype(dtype):\n\u001b[0;32m   1180\u001b[0m     \u001b[38;5;66;03m# Explicit copy, or required since NumPy can't view from / to object.\u001b[39;00m\n\u001b[1;32m-> 1181\u001b[0m     \u001b[38;5;28;01mreturn\u001b[39;00m \u001b[43marr\u001b[49m\u001b[38;5;241;43m.\u001b[39;49m\u001b[43mastype\u001b[49m\u001b[43m(\u001b[49m\u001b[43mdtype\u001b[49m\u001b[43m,\u001b[49m\u001b[43m \u001b[49m\u001b[43mcopy\u001b[49m\u001b[38;5;241;43m=\u001b[39;49m\u001b[38;5;28;43;01mTrue\u001b[39;49;00m\u001b[43m)\u001b[49m\n\u001b[0;32m   1183\u001b[0m \u001b[38;5;28;01mreturn\u001b[39;00m arr\u001b[38;5;241m.\u001b[39mastype(dtype, copy\u001b[38;5;241m=\u001b[39mcopy)\n",
      "\u001b[1;31mValueError\u001b[0m: could not convert string to float: ''"
     ]
    }
   ],
   "source": [
    "df['TotalCharges'] = df['TotalCharges'].astype(float)"
   ]
  },
  {
   "cell_type": "markdown",
   "id": "9af267fd",
   "metadata": {},
   "source": [
    "The error above shows us the it cannot process the rows in the \"totalcharges\" that are \" \".\n",
    "Let's identify and see if we can remove those rows and if it will affect our dataset greatly"
   ]
  },
  {
   "cell_type": "code",
   "execution_count": 5,
   "id": "3a2c5f66",
   "metadata": {},
   "outputs": [
    {
     "name": "stdout",
     "output_type": "stream",
     "text": [
      "(11, 20)\n",
      "(7043, 20)\n"
     ]
    }
   ],
   "source": [
    "df.loc[df['TotalCharges'] == \" \"] # Checks what rows on column TotalCharges are \" \"\n",
    "print(df.loc[df['TotalCharges'] == \" \"].shape) #prints no. of rows we should remove\n",
    "print(df.shape) # prints total no. of rows in our dataset."
   ]
  },
  {
   "cell_type": "markdown",
   "id": "5cc47879",
   "metadata": {},
   "source": [
    "We can see that there is just 11 rows to be removed versus 7043. dropping those rows won't do harm. "
   ]
  },
  {
   "cell_type": "code",
   "execution_count": 6,
   "id": "7945624e",
   "metadata": {},
   "outputs": [],
   "source": [
    "df = df[df.TotalCharges != ' '] #drop rows with ' ' so we can convert the data type in TotalCharges column to numerical values.\n",
    "df['TotalCharges'] = df['TotalCharges'].astype(float) # we shouldn't see any error on this point"
   ]
  },
  {
   "cell_type": "code",
   "execution_count": 7,
   "id": "7c7e1311",
   "metadata": {},
   "outputs": [
    {
     "data": {
      "text/plain": [
       "gender               object\n",
       "SeniorCitizen         int64\n",
       "Partner              object\n",
       "Dependents           object\n",
       "tenure                int64\n",
       "PhoneService         object\n",
       "MultipleLines        object\n",
       "InternetService      object\n",
       "OnlineSecurity       object\n",
       "OnlineBackup         object\n",
       "DeviceProtection     object\n",
       "TechSupport          object\n",
       "StreamingTV          object\n",
       "StreamingMovies      object\n",
       "Contract             object\n",
       "PaperlessBilling     object\n",
       "PaymentMethod        object\n",
       "MonthlyCharges      float64\n",
       "TotalCharges        float64\n",
       "Churn                object\n",
       "dtype: object"
      ]
     },
     "execution_count": 7,
     "metadata": {},
     "output_type": "execute_result"
    }
   ],
   "source": [
    "df.dtypes "
   ]
  },
  {
   "cell_type": "markdown",
   "id": "113d869e",
   "metadata": {},
   "source": [
    "# More Data Cleaning\n",
    "\n",
    "Let's have an idea of the unique answers we have for each column"
   ]
  },
  {
   "cell_type": "code",
   "execution_count": 8,
   "id": "137f3b3d",
   "metadata": {},
   "outputs": [
    {
     "name": "stdout",
     "output_type": "stream",
     "text": [
      "gender : ['Female' 'Male']\n",
      "SeniorCitizen : [0 1]\n",
      "Partner : ['Yes' 'No']\n",
      "Dependents : ['No' 'Yes']\n",
      "tenure : [ 1 34  2 45  8 22 10 28 62 13 16 58 49 25 69 52 71 21 12 30 47 72 17 27\n",
      "  5 46 11 70 63 43 15 60 18 66  9  3 31 50 64 56  7 42 35 48 29 65 38 68\n",
      " 32 55 37 36 41  6  4 33 67 23 57 61 14 20 53 40 59 24 44 19 54 51 26 39]\n",
      "PhoneService : ['No' 'Yes']\n",
      "MultipleLines : ['No phone service' 'No' 'Yes']\n",
      "InternetService : ['DSL' 'Fiber optic' 'No']\n",
      "OnlineSecurity : ['No' 'Yes' 'No internet service']\n",
      "OnlineBackup : ['Yes' 'No' 'No internet service']\n",
      "DeviceProtection : ['No' 'Yes' 'No internet service']\n",
      "TechSupport : ['No' 'Yes' 'No internet service']\n",
      "StreamingTV : ['No' 'Yes' 'No internet service']\n",
      "StreamingMovies : ['No' 'Yes' 'No internet service']\n",
      "Contract : ['Month-to-month' 'One year' 'Two year']\n",
      "PaperlessBilling : ['Yes' 'No']\n",
      "PaymentMethod : ['Electronic check' 'Mailed check' 'Bank transfer (automatic)'\n",
      " 'Credit card (automatic)']\n",
      "MonthlyCharges : [29.85 56.95 53.85 ... 63.1  44.2  78.7 ]\n",
      "TotalCharges : [  29.85 1889.5   108.15 ...  346.45  306.6  6844.5 ]\n",
      "Churn : ['No' 'Yes']\n"
     ]
    }
   ],
   "source": [
    "for column in df:\n",
    "    print(f'{column} : {df[column].unique()}')"
   ]
  },
  {
   "cell_type": "markdown",
   "id": "c807d808",
   "metadata": {},
   "source": [
    "We can see that the above result, we have some strings/object data types. \n",
    "We want to convert those to numerical values to help us easily do **label encoding**"
   ]
  },
  {
   "cell_type": "code",
   "execution_count": 9,
   "id": "39514f3b",
   "metadata": {},
   "outputs": [],
   "source": [
    "def print_unique_col_values(df):\n",
    "    for column in df:\n",
    "        if df[column].dtypes=='object':\n",
    "            print(f'{column} : {df[column].unique()}')"
   ]
  },
  {
   "cell_type": "code",
   "execution_count": 10,
   "id": "3ba755e5",
   "metadata": {},
   "outputs": [
    {
     "name": "stdout",
     "output_type": "stream",
     "text": [
      "gender : ['Female' 'Male']\n",
      "Partner : ['Yes' 'No']\n",
      "Dependents : ['No' 'Yes']\n",
      "PhoneService : ['No' 'Yes']\n",
      "MultipleLines : ['No phone service' 'No' 'Yes']\n",
      "InternetService : ['DSL' 'Fiber optic' 'No']\n",
      "OnlineSecurity : ['No' 'Yes' 'No internet service']\n",
      "OnlineBackup : ['Yes' 'No' 'No internet service']\n",
      "DeviceProtection : ['No' 'Yes' 'No internet service']\n",
      "TechSupport : ['No' 'Yes' 'No internet service']\n",
      "StreamingTV : ['No' 'Yes' 'No internet service']\n",
      "StreamingMovies : ['No' 'Yes' 'No internet service']\n",
      "Contract : ['Month-to-month' 'One year' 'Two year']\n",
      "PaperlessBilling : ['Yes' 'No']\n",
      "PaymentMethod : ['Electronic check' 'Mailed check' 'Bank transfer (automatic)'\n",
      " 'Credit card (automatic)']\n",
      "Churn : ['No' 'Yes']\n"
     ]
    }
   ],
   "source": [
    "print_unique_col_values(df)"
   ]
  },
  {
   "cell_type": "markdown",
   "id": "de3b1270",
   "metadata": {},
   "source": [
    "We can see in the above result that there are responses like \"no internet service\" and \"no phone service\" which is just the same as \"No\".\n",
    "We will proceed on converting those answers into \"No\""
   ]
  },
  {
   "cell_type": "code",
   "execution_count": 11,
   "id": "7854600d",
   "metadata": {},
   "outputs": [],
   "source": [
    "df.replace('No internet service', 'No', inplace = True)\n",
    "df.replace('No phone service', 'No', inplace = True)"
   ]
  },
  {
   "cell_type": "code",
   "execution_count": 12,
   "id": "b9fb5434",
   "metadata": {},
   "outputs": [
    {
     "name": "stdout",
     "output_type": "stream",
     "text": [
      "gender : ['Female' 'Male']\n",
      "Partner : ['Yes' 'No']\n",
      "Dependents : ['No' 'Yes']\n",
      "PhoneService : ['No' 'Yes']\n",
      "MultipleLines : ['No' 'Yes']\n",
      "InternetService : ['DSL' 'Fiber optic' 'No']\n",
      "OnlineSecurity : ['No' 'Yes']\n",
      "OnlineBackup : ['Yes' 'No']\n",
      "DeviceProtection : ['No' 'Yes']\n",
      "TechSupport : ['No' 'Yes']\n",
      "StreamingTV : ['No' 'Yes']\n",
      "StreamingMovies : ['No' 'Yes']\n",
      "Contract : ['Month-to-month' 'One year' 'Two year']\n",
      "PaperlessBilling : ['Yes' 'No']\n",
      "PaymentMethod : ['Electronic check' 'Mailed check' 'Bank transfer (automatic)'\n",
      " 'Credit card (automatic)']\n",
      "Churn : ['No' 'Yes']\n"
     ]
    }
   ],
   "source": [
    "print_unique_col_values(df)"
   ]
  },
  {
   "cell_type": "markdown",
   "id": "842a6ee0",
   "metadata": {},
   "source": [
    "we can still see the ff columns which have categorical answers:\n",
    "- InternetService : ['DSL' 'Fiber optic' 'No']\n",
    "- Contract : ['Month-to-month' 'One year' 'Two year']\n",
    "- PaymentMethod : ['Electronic check' 'Mailed check' 'Bank transfer (automatic)' 'Credit card (automatic)']\n",
    "\n",
    "We will deal with those later. For now, Let's convert every **Yes** to 1 and **No** to 1 so that our machine learning models will be able to understand these features."
   ]
  },
  {
   "cell_type": "code",
   "execution_count": 14,
   "id": "b49f6527",
   "metadata": {},
   "outputs": [
    {
     "name": "stdout",
     "output_type": "stream",
     "text": [
      "['Partner', 'Dependents', 'PhoneService', 'MultipleLines', 'OnlineSecurity', 'OnlineBackup', 'DeviceProtection', 'TechSupport', 'StreamingTV', 'StreamingMovies', 'PaperlessBilling', 'Churn']\n"
     ]
    },
    {
     "name": "stderr",
     "output_type": "stream",
     "text": [
      "C:\\Users\\John Carlo\\AppData\\Local\\Temp\\ipykernel_6448\\186440055.py:3: FutureWarning: elementwise comparison failed; returning scalar instead, but in the future will perform elementwise comparison\n",
      "  if 'Yes' in df[columns].unique():\n"
     ]
    }
   ],
   "source": [
    "yes_no_columns = []\n",
    "for columns in df:\n",
    "    if 'Yes' in df[columns].unique():\n",
    "        yes_no_columns.append(columns)        \n",
    "print(yes_no_columns)"
   ]
  },
  {
   "cell_type": "code",
   "execution_count": 15,
   "id": "8aa4dc92",
   "metadata": {},
   "outputs": [],
   "source": [
    "# Converting the \"yes\" and \"no\" to 1 and 0 in the yes_no_columns\n",
    "for col in yes_no_columns:\n",
    "    df[col].replace({'Yes':1, 'No':0}, inplace=True)"
   ]
  },
  {
   "cell_type": "code",
   "execution_count": 18,
   "id": "e952d694",
   "metadata": {},
   "outputs": [
    {
     "name": "stdout",
     "output_type": "stream",
     "text": [
      "gender : ['Female' 'Male']\n",
      "SeniorCitizen : [0 1]\n",
      "Partner : [1 0]\n",
      "Dependents : [0 1]\n",
      "tenure : [ 1 34  2 45  8 22 10 28 62 13 16 58 49 25 69 52 71 21 12 30 47 72 17 27\n",
      "  5 46 11 70 63 43 15 60 18 66  9  3 31 50 64 56  7 42 35 48 29 65 38 68\n",
      " 32 55 37 36 41  6  4 33 67 23 57 61 14 20 53 40 59 24 44 19 54 51 26 39]\n",
      "PhoneService : [0 1]\n",
      "MultipleLines : [0 1]\n",
      "InternetService : ['DSL' 'Fiber optic' 'No']\n",
      "OnlineSecurity : [0 1]\n",
      "OnlineBackup : [1 0]\n",
      "DeviceProtection : [0 1]\n",
      "TechSupport : [0 1]\n",
      "StreamingTV : [0 1]\n",
      "StreamingMovies : [0 1]\n",
      "Contract : ['Month-to-month' 'One year' 'Two year']\n",
      "PaperlessBilling : [1 0]\n",
      "PaymentMethod : ['Electronic check' 'Mailed check' 'Bank transfer (automatic)'\n",
      " 'Credit card (automatic)']\n",
      "MonthlyCharges : [29.85 56.95 53.85 ... 63.1  44.2  78.7 ]\n",
      "TotalCharges : [  29.85 1889.5   108.15 ...  346.45  306.6  6844.5 ]\n",
      "Churn : [0 1]\n"
     ]
    }
   ],
   "source": [
    "for col in df:\n",
    "    print(f'{col} : {df[col].unique()}')"
   ]
  },
  {
   "cell_type": "markdown",
   "id": "1eb120fb",
   "metadata": {},
   "source": [
    "We can now deal with the Gender column and the other categorical columns"
   ]
  },
  {
   "cell_type": "code",
   "execution_count": 21,
   "id": "1e9dadc3",
   "metadata": {},
   "outputs": [
    {
     "data": {
      "text/plain": [
       "array([1, 0], dtype=int64)"
      ]
     },
     "execution_count": 21,
     "metadata": {},
     "output_type": "execute_result"
    }
   ],
   "source": [
    "df['gender'].replace({'Female':1,'Male':0}, inplace=True)\n",
    "df['gender'].unique()"
   ]
  },
  {
   "cell_type": "markdown",
   "id": "bc721c53",
   "metadata": {},
   "source": [
    "We are now dealing with the following columns with more than two categories:\n",
    "- InternetService : ['DSL' 'Fiber optic' 'No']\n",
    "- Contract : ['Month-to-month' 'One year' 'Two year']\n",
    "- PaymentMethod : ['Electronic check' 'Mailed check' 'Bank transfer (automatic)' 'Credit card (automatic)']\n",
    "\n",
    "for this purpose, we will use \"one hot encoding to separate the categories and create more columns with the **pd.get_dummies** syntax"
   ]
  },
  {
   "cell_type": "code",
   "execution_count": 24,
   "id": "0d37b8da",
   "metadata": {},
   "outputs": [],
   "source": [
    "df = pd.get_dummies(data = df, columns=['InternetService','Contract','PaymentMethod'])\n"
   ]
  },
  {
   "cell_type": "code",
   "execution_count": 25,
   "id": "923a6d72",
   "metadata": {},
   "outputs": [
    {
     "data": {
      "text/html": [
       "<div>\n",
       "<style scoped>\n",
       "    .dataframe tbody tr th:only-of-type {\n",
       "        vertical-align: middle;\n",
       "    }\n",
       "\n",
       "    .dataframe tbody tr th {\n",
       "        vertical-align: top;\n",
       "    }\n",
       "\n",
       "    .dataframe thead th {\n",
       "        text-align: right;\n",
       "    }\n",
       "</style>\n",
       "<table border=\"1\" class=\"dataframe\">\n",
       "  <thead>\n",
       "    <tr style=\"text-align: right;\">\n",
       "      <th></th>\n",
       "      <th>gender</th>\n",
       "      <th>SeniorCitizen</th>\n",
       "      <th>Partner</th>\n",
       "      <th>Dependents</th>\n",
       "      <th>tenure</th>\n",
       "      <th>PhoneService</th>\n",
       "      <th>MultipleLines</th>\n",
       "      <th>OnlineSecurity</th>\n",
       "      <th>OnlineBackup</th>\n",
       "      <th>DeviceProtection</th>\n",
       "      <th>...</th>\n",
       "      <th>InternetService_DSL</th>\n",
       "      <th>InternetService_Fiber optic</th>\n",
       "      <th>InternetService_No</th>\n",
       "      <th>Contract_Month-to-month</th>\n",
       "      <th>Contract_One year</th>\n",
       "      <th>Contract_Two year</th>\n",
       "      <th>PaymentMethod_Bank transfer (automatic)</th>\n",
       "      <th>PaymentMethod_Credit card (automatic)</th>\n",
       "      <th>PaymentMethod_Electronic check</th>\n",
       "      <th>PaymentMethod_Mailed check</th>\n",
       "    </tr>\n",
       "  </thead>\n",
       "  <tbody>\n",
       "    <tr>\n",
       "      <th>6489</th>\n",
       "      <td>0</td>\n",
       "      <td>0</td>\n",
       "      <td>0</td>\n",
       "      <td>0</td>\n",
       "      <td>1</td>\n",
       "      <td>1</td>\n",
       "      <td>0</td>\n",
       "      <td>0</td>\n",
       "      <td>0</td>\n",
       "      <td>0</td>\n",
       "      <td>...</td>\n",
       "      <td>0</td>\n",
       "      <td>0</td>\n",
       "      <td>1</td>\n",
       "      <td>1</td>\n",
       "      <td>0</td>\n",
       "      <td>0</td>\n",
       "      <td>0</td>\n",
       "      <td>0</td>\n",
       "      <td>0</td>\n",
       "      <td>1</td>\n",
       "    </tr>\n",
       "    <tr>\n",
       "      <th>1874</th>\n",
       "      <td>1</td>\n",
       "      <td>0</td>\n",
       "      <td>1</td>\n",
       "      <td>0</td>\n",
       "      <td>43</td>\n",
       "      <td>1</td>\n",
       "      <td>1</td>\n",
       "      <td>1</td>\n",
       "      <td>1</td>\n",
       "      <td>0</td>\n",
       "      <td>...</td>\n",
       "      <td>1</td>\n",
       "      <td>0</td>\n",
       "      <td>0</td>\n",
       "      <td>0</td>\n",
       "      <td>0</td>\n",
       "      <td>1</td>\n",
       "      <td>0</td>\n",
       "      <td>1</td>\n",
       "      <td>0</td>\n",
       "      <td>0</td>\n",
       "    </tr>\n",
       "    <tr>\n",
       "      <th>3777</th>\n",
       "      <td>1</td>\n",
       "      <td>0</td>\n",
       "      <td>1</td>\n",
       "      <td>1</td>\n",
       "      <td>47</td>\n",
       "      <td>1</td>\n",
       "      <td>0</td>\n",
       "      <td>0</td>\n",
       "      <td>0</td>\n",
       "      <td>0</td>\n",
       "      <td>...</td>\n",
       "      <td>0</td>\n",
       "      <td>0</td>\n",
       "      <td>1</td>\n",
       "      <td>0</td>\n",
       "      <td>0</td>\n",
       "      <td>1</td>\n",
       "      <td>1</td>\n",
       "      <td>0</td>\n",
       "      <td>0</td>\n",
       "      <td>0</td>\n",
       "    </tr>\n",
       "    <tr>\n",
       "      <th>4055</th>\n",
       "      <td>0</td>\n",
       "      <td>0</td>\n",
       "      <td>0</td>\n",
       "      <td>0</td>\n",
       "      <td>54</td>\n",
       "      <td>0</td>\n",
       "      <td>0</td>\n",
       "      <td>1</td>\n",
       "      <td>1</td>\n",
       "      <td>0</td>\n",
       "      <td>...</td>\n",
       "      <td>1</td>\n",
       "      <td>0</td>\n",
       "      <td>0</td>\n",
       "      <td>0</td>\n",
       "      <td>0</td>\n",
       "      <td>1</td>\n",
       "      <td>1</td>\n",
       "      <td>0</td>\n",
       "      <td>0</td>\n",
       "      <td>0</td>\n",
       "    </tr>\n",
       "    <tr>\n",
       "      <th>4892</th>\n",
       "      <td>0</td>\n",
       "      <td>1</td>\n",
       "      <td>0</td>\n",
       "      <td>0</td>\n",
       "      <td>20</td>\n",
       "      <td>1</td>\n",
       "      <td>1</td>\n",
       "      <td>0</td>\n",
       "      <td>0</td>\n",
       "      <td>0</td>\n",
       "      <td>...</td>\n",
       "      <td>0</td>\n",
       "      <td>1</td>\n",
       "      <td>0</td>\n",
       "      <td>1</td>\n",
       "      <td>0</td>\n",
       "      <td>0</td>\n",
       "      <td>0</td>\n",
       "      <td>0</td>\n",
       "      <td>1</td>\n",
       "      <td>0</td>\n",
       "    </tr>\n",
       "  </tbody>\n",
       "</table>\n",
       "<p>5 rows × 27 columns</p>\n",
       "</div>"
      ],
      "text/plain": [
       "      gender  SeniorCitizen  Partner  Dependents  tenure  PhoneService  \\\n",
       "6489       0              0        0           0       1             1   \n",
       "1874       1              0        1           0      43             1   \n",
       "3777       1              0        1           1      47             1   \n",
       "4055       0              0        0           0      54             0   \n",
       "4892       0              1        0           0      20             1   \n",
       "\n",
       "      MultipleLines  OnlineSecurity  OnlineBackup  DeviceProtection  ...  \\\n",
       "6489              0               0             0                 0  ...   \n",
       "1874              1               1             1                 0  ...   \n",
       "3777              0               0             0                 0  ...   \n",
       "4055              0               1             1                 0  ...   \n",
       "4892              1               0             0                 0  ...   \n",
       "\n",
       "      InternetService_DSL  InternetService_Fiber optic  InternetService_No  \\\n",
       "6489                    0                            0                   1   \n",
       "1874                    1                            0                   0   \n",
       "3777                    0                            0                   1   \n",
       "4055                    1                            0                   0   \n",
       "4892                    0                            1                   0   \n",
       "\n",
       "      Contract_Month-to-month  Contract_One year  Contract_Two year  \\\n",
       "6489                        1                  0                  0   \n",
       "1874                        0                  0                  1   \n",
       "3777                        0                  0                  1   \n",
       "4055                        0                  0                  1   \n",
       "4892                        1                  0                  0   \n",
       "\n",
       "      PaymentMethod_Bank transfer (automatic)  \\\n",
       "6489                                        0   \n",
       "1874                                        0   \n",
       "3777                                        1   \n",
       "4055                                        1   \n",
       "4892                                        0   \n",
       "\n",
       "      PaymentMethod_Credit card (automatic)  PaymentMethod_Electronic check  \\\n",
       "6489                                      0                               0   \n",
       "1874                                      1                               0   \n",
       "3777                                      0                               0   \n",
       "4055                                      0                               0   \n",
       "4892                                      0                               1   \n",
       "\n",
       "      PaymentMethod_Mailed check  \n",
       "6489                           1  \n",
       "1874                           0  \n",
       "3777                           0  \n",
       "4055                           0  \n",
       "4892                           0  \n",
       "\n",
       "[5 rows x 27 columns]"
      ]
     },
     "execution_count": 25,
     "metadata": {},
     "output_type": "execute_result"
    }
   ],
   "source": [
    "df.sample(5)"
   ]
  },
  {
   "cell_type": "code",
   "execution_count": 27,
   "id": "6295d043",
   "metadata": {},
   "outputs": [
    {
     "data": {
      "text/plain": [
       "gender                                       int64\n",
       "SeniorCitizen                                int64\n",
       "Partner                                      int64\n",
       "Dependents                                   int64\n",
       "tenure                                       int64\n",
       "PhoneService                                 int64\n",
       "MultipleLines                                int64\n",
       "OnlineSecurity                               int64\n",
       "OnlineBackup                                 int64\n",
       "DeviceProtection                             int64\n",
       "TechSupport                                  int64\n",
       "StreamingTV                                  int64\n",
       "StreamingMovies                              int64\n",
       "PaperlessBilling                             int64\n",
       "MonthlyCharges                             float64\n",
       "TotalCharges                               float64\n",
       "Churn                                        int64\n",
       "InternetService_DSL                          uint8\n",
       "InternetService_Fiber optic                  uint8\n",
       "InternetService_No                           uint8\n",
       "Contract_Month-to-month                      uint8\n",
       "Contract_One year                            uint8\n",
       "Contract_Two year                            uint8\n",
       "PaymentMethod_Bank transfer (automatic)      uint8\n",
       "PaymentMethod_Credit card (automatic)        uint8\n",
       "PaymentMethod_Electronic check               uint8\n",
       "PaymentMethod_Mailed check                   uint8\n",
       "dtype: object"
      ]
     },
     "execution_count": 27,
     "metadata": {},
     "output_type": "execute_result"
    }
   ],
   "source": [
    "df.dtypes"
   ]
  },
  {
   "cell_type": "markdown",
   "id": "8b6d9caf",
   "metadata": {},
   "source": [
    "We can now see that there are additional columns and all the data types are numerical. we are done with data cleaning!"
   ]
  },
  {
   "cell_type": "markdown",
   "id": "ce2a8acb",
   "metadata": {},
   "source": [
    "# Data Scaling\n",
    "\n",
    "We can observe that some columns like Tenure range from 1-54(?) and other columns like gender is just 1 or 0 and some columns like monthlycharges are 100-1000.\n",
    "We need to scale these numerical values.\n",
    "First, we identify which columns to scale. For our purposes, we want to scale tenure, monthlycharges, and totalcharges to be in range of 0-1 which is the range of most of our columns.\n",
    "We will use **min-max scaler**."
   ]
  },
  {
   "cell_type": "code",
   "execution_count": 29,
   "id": "7d7f3010",
   "metadata": {},
   "outputs": [
    {
     "data": {
      "text/html": [
       "<div>\n",
       "<style scoped>\n",
       "    .dataframe tbody tr th:only-of-type {\n",
       "        vertical-align: middle;\n",
       "    }\n",
       "\n",
       "    .dataframe tbody tr th {\n",
       "        vertical-align: top;\n",
       "    }\n",
       "\n",
       "    .dataframe thead th {\n",
       "        text-align: right;\n",
       "    }\n",
       "</style>\n",
       "<table border=\"1\" class=\"dataframe\">\n",
       "  <thead>\n",
       "    <tr style=\"text-align: right;\">\n",
       "      <th></th>\n",
       "      <th>gender</th>\n",
       "      <th>SeniorCitizen</th>\n",
       "      <th>Partner</th>\n",
       "      <th>Dependents</th>\n",
       "      <th>tenure</th>\n",
       "      <th>PhoneService</th>\n",
       "      <th>MultipleLines</th>\n",
       "      <th>OnlineSecurity</th>\n",
       "      <th>OnlineBackup</th>\n",
       "      <th>DeviceProtection</th>\n",
       "      <th>...</th>\n",
       "      <th>InternetService_DSL</th>\n",
       "      <th>InternetService_Fiber optic</th>\n",
       "      <th>InternetService_No</th>\n",
       "      <th>Contract_Month-to-month</th>\n",
       "      <th>Contract_One year</th>\n",
       "      <th>Contract_Two year</th>\n",
       "      <th>PaymentMethod_Bank transfer (automatic)</th>\n",
       "      <th>PaymentMethod_Credit card (automatic)</th>\n",
       "      <th>PaymentMethod_Electronic check</th>\n",
       "      <th>PaymentMethod_Mailed check</th>\n",
       "    </tr>\n",
       "  </thead>\n",
       "  <tbody>\n",
       "    <tr>\n",
       "      <th>5329</th>\n",
       "      <td>1</td>\n",
       "      <td>0</td>\n",
       "      <td>1</td>\n",
       "      <td>0</td>\n",
       "      <td>0.338028</td>\n",
       "      <td>0</td>\n",
       "      <td>0</td>\n",
       "      <td>0</td>\n",
       "      <td>0</td>\n",
       "      <td>0</td>\n",
       "      <td>...</td>\n",
       "      <td>1</td>\n",
       "      <td>0</td>\n",
       "      <td>0</td>\n",
       "      <td>1</td>\n",
       "      <td>0</td>\n",
       "      <td>0</td>\n",
       "      <td>1</td>\n",
       "      <td>0</td>\n",
       "      <td>0</td>\n",
       "      <td>0</td>\n",
       "    </tr>\n",
       "    <tr>\n",
       "      <th>4604</th>\n",
       "      <td>0</td>\n",
       "      <td>1</td>\n",
       "      <td>0</td>\n",
       "      <td>0</td>\n",
       "      <td>0.901408</td>\n",
       "      <td>1</td>\n",
       "      <td>0</td>\n",
       "      <td>0</td>\n",
       "      <td>1</td>\n",
       "      <td>1</td>\n",
       "      <td>...</td>\n",
       "      <td>0</td>\n",
       "      <td>1</td>\n",
       "      <td>0</td>\n",
       "      <td>1</td>\n",
       "      <td>0</td>\n",
       "      <td>0</td>\n",
       "      <td>1</td>\n",
       "      <td>0</td>\n",
       "      <td>0</td>\n",
       "      <td>0</td>\n",
       "    </tr>\n",
       "    <tr>\n",
       "      <th>5428</th>\n",
       "      <td>1</td>\n",
       "      <td>0</td>\n",
       "      <td>1</td>\n",
       "      <td>0</td>\n",
       "      <td>0.112676</td>\n",
       "      <td>1</td>\n",
       "      <td>0</td>\n",
       "      <td>0</td>\n",
       "      <td>0</td>\n",
       "      <td>0</td>\n",
       "      <td>...</td>\n",
       "      <td>0</td>\n",
       "      <td>1</td>\n",
       "      <td>0</td>\n",
       "      <td>1</td>\n",
       "      <td>0</td>\n",
       "      <td>0</td>\n",
       "      <td>0</td>\n",
       "      <td>0</td>\n",
       "      <td>1</td>\n",
       "      <td>0</td>\n",
       "    </tr>\n",
       "    <tr>\n",
       "      <th>6408</th>\n",
       "      <td>0</td>\n",
       "      <td>0</td>\n",
       "      <td>0</td>\n",
       "      <td>0</td>\n",
       "      <td>0.957746</td>\n",
       "      <td>1</td>\n",
       "      <td>1</td>\n",
       "      <td>0</td>\n",
       "      <td>0</td>\n",
       "      <td>1</td>\n",
       "      <td>...</td>\n",
       "      <td>0</td>\n",
       "      <td>1</td>\n",
       "      <td>0</td>\n",
       "      <td>0</td>\n",
       "      <td>0</td>\n",
       "      <td>1</td>\n",
       "      <td>1</td>\n",
       "      <td>0</td>\n",
       "      <td>0</td>\n",
       "      <td>0</td>\n",
       "    </tr>\n",
       "    <tr>\n",
       "      <th>6554</th>\n",
       "      <td>1</td>\n",
       "      <td>0</td>\n",
       "      <td>0</td>\n",
       "      <td>0</td>\n",
       "      <td>0.000000</td>\n",
       "      <td>1</td>\n",
       "      <td>0</td>\n",
       "      <td>0</td>\n",
       "      <td>0</td>\n",
       "      <td>0</td>\n",
       "      <td>...</td>\n",
       "      <td>0</td>\n",
       "      <td>1</td>\n",
       "      <td>0</td>\n",
       "      <td>1</td>\n",
       "      <td>0</td>\n",
       "      <td>0</td>\n",
       "      <td>0</td>\n",
       "      <td>0</td>\n",
       "      <td>1</td>\n",
       "      <td>0</td>\n",
       "    </tr>\n",
       "  </tbody>\n",
       "</table>\n",
       "<p>5 rows × 27 columns</p>\n",
       "</div>"
      ],
      "text/plain": [
       "      gender  SeniorCitizen  Partner  Dependents    tenure  PhoneService  \\\n",
       "5329       1              0        1           0  0.338028             0   \n",
       "4604       0              1        0           0  0.901408             1   \n",
       "5428       1              0        1           0  0.112676             1   \n",
       "6408       0              0        0           0  0.957746             1   \n",
       "6554       1              0        0           0  0.000000             1   \n",
       "\n",
       "      MultipleLines  OnlineSecurity  OnlineBackup  DeviceProtection  ...  \\\n",
       "5329              0               0             0                 0  ...   \n",
       "4604              0               0             1                 1  ...   \n",
       "5428              0               0             0                 0  ...   \n",
       "6408              1               0             0                 1  ...   \n",
       "6554              0               0             0                 0  ...   \n",
       "\n",
       "      InternetService_DSL  InternetService_Fiber optic  InternetService_No  \\\n",
       "5329                    1                            0                   0   \n",
       "4604                    0                            1                   0   \n",
       "5428                    0                            1                   0   \n",
       "6408                    0                            1                   0   \n",
       "6554                    0                            1                   0   \n",
       "\n",
       "      Contract_Month-to-month  Contract_One year  Contract_Two year  \\\n",
       "5329                        1                  0                  0   \n",
       "4604                        1                  0                  0   \n",
       "5428                        1                  0                  0   \n",
       "6408                        0                  0                  1   \n",
       "6554                        1                  0                  0   \n",
       "\n",
       "      PaymentMethod_Bank transfer (automatic)  \\\n",
       "5329                                        1   \n",
       "4604                                        1   \n",
       "5428                                        0   \n",
       "6408                                        1   \n",
       "6554                                        0   \n",
       "\n",
       "      PaymentMethod_Credit card (automatic)  PaymentMethod_Electronic check  \\\n",
       "5329                                      0                               0   \n",
       "4604                                      0                               0   \n",
       "5428                                      0                               1   \n",
       "6408                                      0                               0   \n",
       "6554                                      0                               1   \n",
       "\n",
       "      PaymentMethod_Mailed check  \n",
       "5329                           0  \n",
       "4604                           0  \n",
       "5428                           0  \n",
       "6408                           0  \n",
       "6554                           0  \n",
       "\n",
       "[5 rows x 27 columns]"
      ]
     },
     "execution_count": 29,
     "metadata": {},
     "output_type": "execute_result"
    }
   ],
   "source": [
    "cols_to_scale = ['tenure','MonthlyCharges','TotalCharges']\n",
    "\n",
    "from sklearn.preprocessing import MinMaxScaler\n",
    "scaler = MinMaxScaler()\n",
    "\n",
    "df[cols_to_scale]= scaler.fit_transform(df[cols_to_scale])\n",
    "df.sample(5)"
   ]
  },
  {
   "cell_type": "markdown",
   "id": "7dd5d276",
   "metadata": {},
   "source": [
    "Excellent! Our dataframe is now ready to be used for our machine learning models."
   ]
  },
  {
   "cell_type": "markdown",
   "id": "d55e1c04",
   "metadata": {},
   "source": [
    "# Splitting data sets to features(X) and labels(y)"
   ]
  },
  {
   "cell_type": "code",
   "execution_count": 33,
   "id": "1da1eaa7",
   "metadata": {},
   "outputs": [],
   "source": [
    "X = df.drop('Churn', axis = 'columns')\n",
    "y = df['Churn']"
   ]
  },
  {
   "cell_type": "markdown",
   "id": "62846291",
   "metadata": {},
   "source": [
    "# Splitting data into Training and Testing Data"
   ]
  },
  {
   "cell_type": "code",
   "execution_count": 36,
   "id": "9fc19d9a",
   "metadata": {},
   "outputs": [
    {
     "name": "stdout",
     "output_type": "stream",
     "text": [
      "(5625, 26)\n",
      "(1407, 26)\n"
     ]
    }
   ],
   "source": [
    "from sklearn.model_selection import train_test_split\n",
    "X_train, X_test, y_train, y_test = train_test_split(X, y, test_size = 0.2, random_state=5)\n",
    "print(X_train.shape)\n",
    "print(X_test.shape)"
   ]
  },
  {
   "cell_type": "markdown",
   "id": "67012e32",
   "metadata": {},
   "source": [
    "# Creation of neural network"
   ]
  },
  {
   "cell_type": "code",
   "execution_count": 42,
   "id": "f624d021",
   "metadata": {},
   "outputs": [
    {
     "name": "stdout",
     "output_type": "stream",
     "text": [
      "Epoch 1/100\n",
      "176/176 [==============================] - 0s 566us/step - loss: 0.4754 - accuracy: 0.7758\n",
      "Epoch 2/100\n",
      "176/176 [==============================] - 0s 600us/step - loss: 0.4291 - accuracy: 0.7973\n",
      "Epoch 3/100\n",
      "176/176 [==============================] - 0s 577us/step - loss: 0.4215 - accuracy: 0.7998\n",
      "Epoch 4/100\n",
      "176/176 [==============================] - 0s 577us/step - loss: 0.4172 - accuracy: 0.8034\n",
      "Epoch 5/100\n",
      "176/176 [==============================] - 0s 737us/step - loss: 0.4154 - accuracy: 0.8066\n",
      "Epoch 6/100\n",
      "176/176 [==============================] - 0s 594us/step - loss: 0.4132 - accuracy: 0.8075\n",
      "Epoch 7/100\n",
      "176/176 [==============================] - 0s 612us/step - loss: 0.4121 - accuracy: 0.8076\n",
      "Epoch 8/100\n",
      "176/176 [==============================] - 0s 623us/step - loss: 0.4107 - accuracy: 0.8096\n",
      "Epoch 9/100\n",
      "176/176 [==============================] - 0s 577us/step - loss: 0.4112 - accuracy: 0.8078\n",
      "Epoch 10/100\n",
      "176/176 [==============================] - 0s 560us/step - loss: 0.4090 - accuracy: 0.8091\n",
      "Epoch 11/100\n",
      "176/176 [==============================] - 0s 577us/step - loss: 0.4078 - accuracy: 0.8080\n",
      "Epoch 12/100\n",
      "176/176 [==============================] - 0s 583us/step - loss: 0.4080 - accuracy: 0.8094\n",
      "Epoch 13/100\n",
      "176/176 [==============================] - 0s 589us/step - loss: 0.4068 - accuracy: 0.8089\n",
      "Epoch 14/100\n",
      "176/176 [==============================] - 0s 594us/step - loss: 0.4064 - accuracy: 0.8107\n",
      "Epoch 15/100\n",
      "176/176 [==============================] - 0s 589us/step - loss: 0.4062 - accuracy: 0.8107\n",
      "Epoch 16/100\n",
      "176/176 [==============================] - 0s 589us/step - loss: 0.4053 - accuracy: 0.8098\n",
      "Epoch 17/100\n",
      "176/176 [==============================] - 0s 589us/step - loss: 0.4047 - accuracy: 0.8130\n",
      "Epoch 18/100\n",
      "176/176 [==============================] - 0s 583us/step - loss: 0.4041 - accuracy: 0.8112\n",
      "Epoch 19/100\n",
      "176/176 [==============================] - 0s 583us/step - loss: 0.4036 - accuracy: 0.8092\n",
      "Epoch 20/100\n",
      "176/176 [==============================] - 0s 629us/step - loss: 0.4038 - accuracy: 0.8108\n",
      "Epoch 21/100\n",
      "176/176 [==============================] - 0s 566us/step - loss: 0.4033 - accuracy: 0.8128\n",
      "Epoch 22/100\n",
      "176/176 [==============================] - 0s 577us/step - loss: 0.4021 - accuracy: 0.8126\n",
      "Epoch 23/100\n",
      "176/176 [==============================] - 0s 594us/step - loss: 0.4022 - accuracy: 0.8112\n",
      "Epoch 24/100\n",
      "176/176 [==============================] - 0s 566us/step - loss: 0.4015 - accuracy: 0.8135\n",
      "Epoch 25/100\n",
      "176/176 [==============================] - 0s 594us/step - loss: 0.4009 - accuracy: 0.8142\n",
      "Epoch 26/100\n",
      "176/176 [==============================] - 0s 594us/step - loss: 0.4013 - accuracy: 0.8137\n",
      "Epoch 27/100\n",
      "176/176 [==============================] - 0s 583us/step - loss: 0.3998 - accuracy: 0.8139\n",
      "Epoch 28/100\n",
      "176/176 [==============================] - 0s 566us/step - loss: 0.3995 - accuracy: 0.8135\n",
      "Epoch 29/100\n",
      "176/176 [==============================] - 0s 577us/step - loss: 0.3995 - accuracy: 0.8155\n",
      "Epoch 30/100\n",
      "176/176 [==============================] - 0s 572us/step - loss: 0.3988 - accuracy: 0.8153\n",
      "Epoch 31/100\n",
      "176/176 [==============================] - 0s 566us/step - loss: 0.3980 - accuracy: 0.8135\n",
      "Epoch 32/100\n",
      "176/176 [==============================] - 0s 577us/step - loss: 0.3976 - accuracy: 0.8139\n",
      "Epoch 33/100\n",
      "176/176 [==============================] - 0s 566us/step - loss: 0.3970 - accuracy: 0.8148\n",
      "Epoch 34/100\n",
      "176/176 [==============================] - 0s 577us/step - loss: 0.3970 - accuracy: 0.8165\n",
      "Epoch 35/100\n",
      "176/176 [==============================] - 0s 577us/step - loss: 0.3960 - accuracy: 0.8181\n",
      "Epoch 36/100\n",
      "176/176 [==============================] - 0s 572us/step - loss: 0.3964 - accuracy: 0.8165\n",
      "Epoch 37/100\n",
      "176/176 [==============================] - 0s 572us/step - loss: 0.3957 - accuracy: 0.8158\n",
      "Epoch 38/100\n",
      "176/176 [==============================] - 0s 572us/step - loss: 0.3952 - accuracy: 0.8174\n",
      "Epoch 39/100\n",
      "176/176 [==============================] - 0s 572us/step - loss: 0.3949 - accuracy: 0.8171\n",
      "Epoch 40/100\n",
      "176/176 [==============================] - 0s 560us/step - loss: 0.3948 - accuracy: 0.8199\n",
      "Epoch 41/100\n",
      "176/176 [==============================] - 0s 560us/step - loss: 0.3953 - accuracy: 0.8180\n",
      "Epoch 42/100\n",
      "176/176 [==============================] - 0s 554us/step - loss: 0.3939 - accuracy: 0.8180\n",
      "Epoch 43/100\n",
      "176/176 [==============================] - 0s 566us/step - loss: 0.3930 - accuracy: 0.8192\n",
      "Epoch 44/100\n",
      "176/176 [==============================] - 0s 566us/step - loss: 0.3923 - accuracy: 0.8174\n",
      "Epoch 45/100\n",
      "176/176 [==============================] - 0s 566us/step - loss: 0.3931 - accuracy: 0.8165\n",
      "Epoch 46/100\n",
      "176/176 [==============================] - 0s 566us/step - loss: 0.3920 - accuracy: 0.8192\n",
      "Epoch 47/100\n",
      "176/176 [==============================] - 0s 577us/step - loss: 0.3925 - accuracy: 0.8178\n",
      "Epoch 48/100\n",
      "176/176 [==============================] - 0s 583us/step - loss: 0.3916 - accuracy: 0.8190\n",
      "Epoch 49/100\n",
      "176/176 [==============================] - 0s 572us/step - loss: 0.3909 - accuracy: 0.8187\n",
      "Epoch 50/100\n",
      "176/176 [==============================] - 0s 572us/step - loss: 0.3913 - accuracy: 0.8192\n",
      "Epoch 51/100\n",
      "176/176 [==============================] - 0s 583us/step - loss: 0.3905 - accuracy: 0.8199\n",
      "Epoch 52/100\n",
      "176/176 [==============================] - 0s 566us/step - loss: 0.3910 - accuracy: 0.8180\n",
      "Epoch 53/100\n",
      "176/176 [==============================] - 0s 623us/step - loss: 0.3901 - accuracy: 0.8171\n",
      "Epoch 54/100\n",
      "176/176 [==============================] - 0s 612us/step - loss: 0.3904 - accuracy: 0.8171\n",
      "Epoch 55/100\n",
      "176/176 [==============================] - 0s 583us/step - loss: 0.3889 - accuracy: 0.8190\n",
      "Epoch 56/100\n",
      "176/176 [==============================] - 0s 606us/step - loss: 0.3889 - accuracy: 0.8188\n",
      "Epoch 57/100\n",
      "176/176 [==============================] - 0s 589us/step - loss: 0.3886 - accuracy: 0.8197\n",
      "Epoch 58/100\n",
      "176/176 [==============================] - 0s 577us/step - loss: 0.3883 - accuracy: 0.8196\n",
      "Epoch 59/100\n",
      "176/176 [==============================] - 0s 583us/step - loss: 0.3879 - accuracy: 0.8197\n",
      "Epoch 60/100\n",
      "176/176 [==============================] - 0s 560us/step - loss: 0.3884 - accuracy: 0.8178\n",
      "Epoch 61/100\n",
      "176/176 [==============================] - 0s 600us/step - loss: 0.3880 - accuracy: 0.8180\n",
      "Epoch 62/100\n",
      "176/176 [==============================] - 0s 680us/step - loss: 0.3874 - accuracy: 0.8201\n",
      "Epoch 63/100\n",
      "176/176 [==============================] - 0s 600us/step - loss: 0.3872 - accuracy: 0.8188\n",
      "Epoch 64/100\n",
      "176/176 [==============================] - 0s 589us/step - loss: 0.3867 - accuracy: 0.8188\n",
      "Epoch 65/100\n",
      "176/176 [==============================] - 0s 594us/step - loss: 0.3873 - accuracy: 0.8194\n",
      "Epoch 66/100\n",
      "176/176 [==============================] - 0s 634us/step - loss: 0.3866 - accuracy: 0.8203\n",
      "Epoch 67/100\n",
      "176/176 [==============================] - 0s 669us/step - loss: 0.3865 - accuracy: 0.8210\n",
      "Epoch 68/100\n",
      "176/176 [==============================] - 0s 600us/step - loss: 0.3860 - accuracy: 0.8206\n",
      "Epoch 69/100\n",
      "176/176 [==============================] - 0s 600us/step - loss: 0.3859 - accuracy: 0.8203\n",
      "Epoch 70/100\n",
      "176/176 [==============================] - 0s 600us/step - loss: 0.3855 - accuracy: 0.8201\n",
      "Epoch 71/100\n",
      "176/176 [==============================] - 0s 594us/step - loss: 0.3854 - accuracy: 0.8206\n",
      "Epoch 72/100\n",
      "176/176 [==============================] - 0s 589us/step - loss: 0.3859 - accuracy: 0.8174\n",
      "Epoch 73/100\n",
      "176/176 [==============================] - 0s 583us/step - loss: 0.3856 - accuracy: 0.8190\n",
      "Epoch 74/100\n",
      "176/176 [==============================] - 0s 566us/step - loss: 0.3851 - accuracy: 0.8201\n",
      "Epoch 75/100\n",
      "176/176 [==============================] - 0s 572us/step - loss: 0.3850 - accuracy: 0.8210\n",
      "Epoch 76/100\n",
      "176/176 [==============================] - 0s 572us/step - loss: 0.3853 - accuracy: 0.8217\n",
      "Epoch 77/100\n",
      "176/176 [==============================] - 0s 566us/step - loss: 0.3843 - accuracy: 0.8197\n",
      "Epoch 78/100\n",
      "176/176 [==============================] - 0s 566us/step - loss: 0.3845 - accuracy: 0.8222\n",
      "Epoch 79/100\n"
     ]
    },
    {
     "name": "stdout",
     "output_type": "stream",
     "text": [
      "176/176 [==============================] - 0s 589us/step - loss: 0.3840 - accuracy: 0.8197\n",
      "Epoch 80/100\n",
      "176/176 [==============================] - 0s 566us/step - loss: 0.3835 - accuracy: 0.8204\n",
      "Epoch 81/100\n",
      "176/176 [==============================] - 0s 566us/step - loss: 0.3842 - accuracy: 0.8203\n",
      "Epoch 82/100\n",
      "176/176 [==============================] - 0s 577us/step - loss: 0.3839 - accuracy: 0.8231\n",
      "Epoch 83/100\n",
      "176/176 [==============================] - 0s 583us/step - loss: 0.3836 - accuracy: 0.8220\n",
      "Epoch 84/100\n",
      "176/176 [==============================] - 0s 572us/step - loss: 0.3835 - accuracy: 0.8228\n",
      "Epoch 85/100\n",
      "176/176 [==============================] - 0s 589us/step - loss: 0.3834 - accuracy: 0.8222\n",
      "Epoch 86/100\n",
      "176/176 [==============================] - 0s 577us/step - loss: 0.3830 - accuracy: 0.8217\n",
      "Epoch 87/100\n",
      "176/176 [==============================] - 0s 566us/step - loss: 0.3832 - accuracy: 0.8210\n",
      "Epoch 88/100\n",
      "176/176 [==============================] - 0s 577us/step - loss: 0.3826 - accuracy: 0.8215\n",
      "Epoch 89/100\n",
      "176/176 [==============================] - 0s 560us/step - loss: 0.3833 - accuracy: 0.8236\n",
      "Epoch 90/100\n",
      "176/176 [==============================] - 0s 566us/step - loss: 0.3840 - accuracy: 0.8192\n",
      "Epoch 91/100\n",
      "176/176 [==============================] - 0s 577us/step - loss: 0.3823 - accuracy: 0.8219\n",
      "Epoch 92/100\n",
      "176/176 [==============================] - 0s 560us/step - loss: 0.3829 - accuracy: 0.8206\n",
      "Epoch 93/100\n",
      "176/176 [==============================] - 0s 560us/step - loss: 0.3832 - accuracy: 0.8215\n",
      "Epoch 94/100\n",
      "176/176 [==============================] - 0s 560us/step - loss: 0.3820 - accuracy: 0.8203\n",
      "Epoch 95/100\n",
      "176/176 [==============================] - 0s 572us/step - loss: 0.3828 - accuracy: 0.8208\n",
      "Epoch 96/100\n",
      "176/176 [==============================] - 0s 560us/step - loss: 0.3816 - accuracy: 0.8196\n",
      "Epoch 97/100\n",
      "176/176 [==============================] - 0s 566us/step - loss: 0.3825 - accuracy: 0.8208\n",
      "Epoch 98/100\n",
      "176/176 [==============================] - 0s 589us/step - loss: 0.3824 - accuracy: 0.8217\n",
      "Epoch 99/100\n",
      "176/176 [==============================] - 0s 609us/step - loss: 0.3817 - accuracy: 0.8204\n",
      "Epoch 100/100\n",
      "176/176 [==============================] - 0s 572us/step - loss: 0.3810 - accuracy: 0.8226\n"
     ]
    },
    {
     "data": {
      "text/plain": [
       "<keras.callbacks.History at 0x2935919ae20>"
      ]
     },
     "execution_count": 42,
     "metadata": {},
     "output_type": "execute_result"
    }
   ],
   "source": [
    "import tensorflow as tf\n",
    "from tensorflow import keras\n",
    "\n",
    "model = keras.Sequential([\n",
    "    keras.layers.Dense( 20, input_shape=(26,), activation='relu'),\n",
    "    keras.layers.Dense(1, activation='sigmoid'),\n",
    "])\n",
    " #input shape is same as number of features, then next number is the number of neurons in next layer, and then the activation function\n",
    "    #keras.layers.Dense(15, activation='relu'),\n",
    " # This is the last layer, or the output. So only one neuron and sigmoid activation function since we need 1 or 0\n",
    "\n",
    "\n",
    "model.compile(loss = 'binary_crossentropy',\n",
    "              optimizer = 'adam',\n",
    "              metrics = ['accuracy']\n",
    "             )\n",
    "# loss = 'binary_crossentropy', # because our output is zero or one\n",
    "# optimizer = 'adam', # just common. try whatever works for you\n",
    "\n",
    "\n",
    "model.fit(X_train, y_train, epochs=100)"
   ]
  },
  {
   "cell_type": "code",
   "execution_count": 43,
   "id": "556d8b0f",
   "metadata": {},
   "outputs": [
    {
     "name": "stdout",
     "output_type": "stream",
     "text": [
      "44/44 [==============================] - 0s 488us/step - loss: 0.4570 - accuracy: 0.7854\n"
     ]
    },
    {
     "data": {
      "text/plain": [
       "[0.4570152461528778, 0.7853589057922363]"
      ]
     },
     "execution_count": 43,
     "metadata": {},
     "output_type": "execute_result"
    }
   ],
   "source": [
    "model.evaluate(X_test, y_test)"
   ]
  },
  {
   "cell_type": "code",
   "execution_count": 48,
   "id": "41e2f686",
   "metadata": {},
   "outputs": [
    {
     "name": "stdout",
     "output_type": "stream",
     "text": [
      "44/44 [==============================] - 0s 442us/step\n"
     ]
    },
    {
     "data": {
      "text/plain": [
       "array([[0.36831367],\n",
       "       [0.3543863 ],\n",
       "       [0.00896588],\n",
       "       [0.76566726],\n",
       "       [0.29052395],\n",
       "       [0.8980145 ],\n",
       "       [0.1263831 ],\n",
       "       [0.35719296],\n",
       "       [0.29469416],\n",
       "       [0.12603518]], dtype=float32)"
      ]
     },
     "execution_count": 48,
     "metadata": {},
     "output_type": "execute_result"
    }
   ],
   "source": [
    "yp=model.predict(X_test)\n",
    "yp[:10]"
   ]
  },
  {
   "cell_type": "code",
   "execution_count": 49,
   "id": "d950dd68",
   "metadata": {},
   "outputs": [
    {
     "data": {
      "text/plain": [
       "2660    0\n",
       "744     0\n",
       "5579    1\n",
       "64      1\n",
       "3287    1\n",
       "816     1\n",
       "2670    0\n",
       "5920    0\n",
       "1023    0\n",
       "6087    0\n",
       "Name: Churn, dtype: int64"
      ]
     },
     "execution_count": 49,
     "metadata": {},
     "output_type": "execute_result"
    }
   ],
   "source": [
    "y_test[:10]"
   ]
  },
  {
   "cell_type": "code",
   "execution_count": 50,
   "id": "23b553f9",
   "metadata": {},
   "outputs": [],
   "source": [
    "y_pred = []\n",
    "for element in yp:\n",
    "    if element > 0.5:\n",
    "        y_pred.append(1)\n",
    "    else:\n",
    "        y_pred.append(0)"
   ]
  },
  {
   "cell_type": "code",
   "execution_count": 51,
   "id": "dbdec80c",
   "metadata": {},
   "outputs": [
    {
     "data": {
      "text/plain": [
       "[0, 0, 0, 1, 0, 1, 0, 0, 0, 0]"
      ]
     },
     "execution_count": 51,
     "metadata": {},
     "output_type": "execute_result"
    }
   ],
   "source": [
    "y_pred[:10]"
   ]
  },
  {
   "cell_type": "markdown",
   "id": "68bf966f",
   "metadata": {},
   "source": [
    "# Generating a classification report"
   ]
  },
  {
   "cell_type": "code",
   "execution_count": 53,
   "id": "16cfad3c",
   "metadata": {},
   "outputs": [
    {
     "name": "stdout",
     "output_type": "stream",
     "text": [
      "              precision    recall  f1-score   support\n",
      "\n",
      "           0       0.83      0.88      0.85       999\n",
      "           1       0.65      0.56      0.60       408\n",
      "\n",
      "    accuracy                           0.79      1407\n",
      "   macro avg       0.74      0.72      0.73      1407\n",
      "weighted avg       0.78      0.79      0.78      1407\n",
      "\n"
     ]
    }
   ],
   "source": [
    "from sklearn.metrics import confusion_matrix, classification_report\n",
    "\n",
    "print(classification_report(y_test, y_pred))"
   ]
  },
  {
   "cell_type": "code",
   "execution_count": 54,
   "id": "f6d69d49",
   "metadata": {},
   "outputs": [
    {
     "data": {
      "text/plain": [
       "Text(69.0, 0.5, 'Truth')"
      ]
     },
     "execution_count": 54,
     "metadata": {},
     "output_type": "execute_result"
    },
    {
     "data": {
      "image/png": "[encoded data removed]",
      "text/plain": [
       "<Figure size 720x504 with 2 Axes>"
      ]
     },
     "metadata": {
      "needs_background": "light"
     },
     "output_type": "display_data"
    }
   ],
   "source": [
    "import seaborn as sn\n",
    "cm = tf.math.confusion_matrix(labels=y_test, predictions=y_pred)\n",
    "\n",
    "plt.figure(figsize = (10,7))\n",
    "sn.heatmap(cm, annot = True, fmt='d')\n",
    "plt.xlabel('Predicted')\n",
    "plt.ylabel ('Truth')"
   ]
  },
  {
   "cell_type": "markdown",
   "id": "9dd1577b",
   "metadata": {},
   "source": [
    "Anything in the black boxes is error judgement by our model. Otherwise, correct judgement.\n",
    "\n",
    "Accuracy = (correct predictions)/(total preductions)\n",
    "Precision(0) = (No. of correct prediction 0)/(no. of total predictions that are 0)\n",
    "Precision(1) = (No. of correct prediction 1)/(no. of total predictions that are 1)\n",
    "Recall(0) = (No of correct prediction 0)/no. of total truths that are 0)\n",
    "Recall(1) = (No of correct prediction 1)/no. of total truths that are 1)"
   ]
  },
  {
   "cell_type": "code",
   "execution_count": 60,
   "id": "2ec94c1c",
   "metadata": {},
   "outputs": [
    {
     "name": "stdout",
     "output_type": "stream",
     "text": [
      "0.79\n",
      "0.83\n",
      "0.65\n",
      "0.88\n",
      "0.56\n"
     ]
    }
   ],
   "source": [
    "Accuracy = round((877+228)/(877+122+180+228),2)\n",
    "print(Accuracy)\n",
    "Precision_0 = round(877/(877+180),2)\n",
    "print(Precision_0)\n",
    "Precision_1 = round(228/(122+228),2)\n",
    "print(Precision_1)\n",
    "Recall_0 = round(877/(877+122),2)\n",
    "print(Recall_0)\n",
    "Recall_1 = round(228/(228+180),2)\n",
    "print(Recall_1)"
   ]
  },
  {
   "cell_type": "markdown",
   "id": "ea8eefe9",
   "metadata": {},
   "source": [
    "FINISHED!"
   ]
  },
  {
   "cell_type": "markdown",
   "id": "96836f21",
   "metadata": {},
   "source": [
    "Assignment:\n",
    "1. Build a model to predict churn rate at a bank\n",
    "2. once model is built, print classification report, and analyza precision, recall, and f1 score\n",
    "\n",
    "link: https://www.kaggle.com/code/kmalit/bank-customer-churn-prediction/data"
   ]
  },
  {
   "cell_type": "code",
   "execution_count": null,
   "id": "99e03f0e",
   "metadata": {},
   "outputs": [],
   "source": []
  },
  {
   "cell_type": "code",
   "execution_count": null,
   "id": "b9e91ca4",
   "metadata": {},
   "outputs": [],
   "source": []
  },
  {
   "cell_type": "code",
   "execution_count": null,
   "id": "b1a3c3fc",
   "metadata": {},
   "outputs": [],
   "source": []
  },
  {
   "cell_type": "code",
   "execution_count": null,
   "id": "815b3147",
   "metadata": {},
   "outputs": [],
   "source": [
    "tenure_churn_no = df[df.Churn=='No'].tenure\n",
    "tenure_churn_yes = df[df.Churn=='Yes'].tenure\n",
    "\n",
    "plt.xlabel(\"Tenure\")\n",
    "plt.ylabel(\"Number of Customers\")\n",
    "plt.title(\"Customer Churn Prediction Visualization\")\n",
    "\n",
    "plt.hist([tenure_churn_yes, tenure_churn_no] , color = ['green', 'red'], label = ['Churn=Yes', \"Churn=No\"])\n",
    "plt.legend()"
   ]
  },
  {
   "cell_type": "code",
   "execution_count": null,
   "id": "0a52fd4e",
   "metadata": {},
   "outputs": [],
   "source": [
    "mc_churn_no = df[df.Churn=='No'].MonthlyCharges\n",
    "mc_churn_yes = df[df.Churn=='Yes'].MonthlyCharges\n",
    "\n",
    "plt.xlabel(\"Monthly Charges\")\n",
    "plt.ylabel(\"Number of Customers\")\n",
    "plt.title(\"Customer Churn Prediction Visualization\")\n",
    "\n",
    "plt.hist([mc_churn_yes, mc_churn_no], color = ['green', 'red'], label = ['Churn=Yes', \"Churn=No\"], rwidth=0.95)\n",
    "plt.legend()"
   ]
  },
  {
   "cell_type": "code",
   "execution_count": null,
   "id": "f90de7a4",
   "metadata": {},
   "outputs": [],
   "source": []
  }
 ],
 "metadata": {
  "kernelspec": {
   "display_name": "Python 3 (ipykernel)",
   "language": "python",
   "name": "python3"
  },
  "language_info": {
   "codemirror_mode": {
    "name": "ipython",
    "version": 3
   },
   "file_extension": ".py",
   "mimetype": "text/x-python",
   "name": "python",
   "nbconvert_exporter": "python",
   "pygments_lexer": "ipython3",
   "version": "3.9.12"
  }
 },
 "nbformat": 4,
 "nbformat_minor": 5
}
